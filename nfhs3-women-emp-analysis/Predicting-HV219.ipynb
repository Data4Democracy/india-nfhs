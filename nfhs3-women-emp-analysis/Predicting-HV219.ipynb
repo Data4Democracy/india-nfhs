{
 "cells": [
  {
   "cell_type": "markdown",
   "metadata": {},
   "source": [
    "# Predicting sex of household head in NFHS-3\n",
    "\n",
    "This notebook works with `household_truncated.csv` (just as is on `data.world`) and tries to build a predictive algorithm for `HV219`: sex of household head.  The code could probably be reviewed and improved.  \n",
    "\n",
    "Explanation for NFHS-3 and the project is on the [team GitHub project page](https://github.com/Data4Democracy/india-nfhs).\n",
    "\n",
    "Codebook for variables is available in this folder at `IAHR52FL.txt`."
   ]
  },
  {
   "cell_type": "markdown",
   "metadata": {},
   "source": [
    "## Table of contents\n",
    "\n",
    "1. Import data, remove NAs\n",
    "\n",
    "2. No Information model\n",
    "\n",
    "3. Overly simple decision tree model, with five predictors\n",
    "\n",
    "4. Decision tree with all 'interesting' variables"
   ]
  },
  {
   "cell_type": "markdown",
   "metadata": {},
   "source": [
    "# 1. Import data, remove NAs"
   ]
  },
  {
   "cell_type": "code",
   "execution_count": 58,
   "metadata": {
    "collapsed": false
   },
   "outputs": [],
   "source": [
    "import pandas as pd\n",
    "import numpy as np\n",
    "from pandas import Series, DataFrame\n",
    "import seaborn as sb \n",
    "\n",
    "%matplotlib inline\n",
    "import matplotlib.pyplot as plt\n",
    "\n",
    "# use low_memory = False so that it reads the dtypes correctly\n",
    "df = pd.read_csv('household_truncated.csv', na_values='NaN', low_memory=False)"
   ]
  },
  {
   "cell_type": "code",
   "execution_count": 59,
   "metadata": {
    "collapsed": true
   },
   "outputs": [],
   "source": [
    "import warnings\n",
    "warnings.filterwarnings('ignore') #Supress unnecessary warnings for readability"
   ]
  },
  {
   "cell_type": "code",
   "execution_count": 60,
   "metadata": {
    "collapsed": true
   },
   "outputs": [],
   "source": [
    "interesting = ['HV009','HV025', 'HV026', 'HV201', 'HV202', 'HV205', 'HV206', 'HV208', 'HV212', 'HV213',\n",
    "              'HV214', 'HV215', 'HV216', 'HV217', 'HV219', 'HV220', 'HV221', 'HV226', 'HV227',\n",
    "              'HV243A', 'HV244', 'HV246', 'HV247', 'HV270', 'SH44', 'SH46', 'SH47N', 'SH58', \n",
    "              'SH62A', 'SH62F', 'SHSLI', 'SHSTRUC']"
   ]
  },
  {
   "cell_type": "code",
   "execution_count": 61,
   "metadata": {
    "collapsed": true
   },
   "outputs": [],
   "source": [
    "# subset for 'interesting' variables\n",
    "df2 = df[interesting]"
   ]
  },
  {
   "cell_type": "code",
   "execution_count": 62,
   "metadata": {
    "collapsed": true
   },
   "outputs": [],
   "source": [
    "# dict to easily keep track of which survey questions these variables correspond to\n",
    "q_dict = {'HV009':'Number of listed household members' ,\n",
    "          'HV025': 'Type of place of residence', 'HV026' : 'Place of residence',\n",
    "          'HV201' : 'Source of drinking water', 'HV202':'Source of non-drinking water', \n",
    "          'HV205':'Type of toilet facility', 'HV206':'Has electricity', \n",
    "          'HV208':'Has television', 'HV212':'Has car', 'HV213':'Main floor material',\n",
    "          'HV214':'Main wall [exterior] material', 'HV215':'Main roof material',\n",
    "          'HV216':'Rooms used for sleeping', 'HV217':'Relationship structure',\n",
    "          'HV219': 'Sex of head of household', 'HV220':'Age of head of household',\n",
    "          'HV221':'Has telephone (non-mobile)', \n",
    "          'HV226':'Type of cooking fuel', 'HV227':'Have bednet for sleeping',\n",
    "          'HV243A': 'Has mobile telephone',\n",
    "          'HV244':'Owns land usable for agriculture', 'HV246':'Livestock, herds or farm animals',\n",
    "          'HV247':'Owns a bank account or post office account', 'HV270':'Wealth Index',\n",
    "          'SH44':'Household head\\'s religion', 'SH46':'Type of caste or tribe of the HH head',\n",
    "          'SH47N':'Has computer', 'SH58':'Owns this or any other house',\n",
    "          'SH62A':'Has cows/bulls/buffalo', 'SH62F':'Has chickens',\n",
    "          'SHSLI':'Standard of Living Index', 'SHSTRUC':'Household structure'}"
   ]
  },
  {
   "cell_type": "code",
   "execution_count": 63,
   "metadata": {
    "collapsed": false
   },
   "outputs": [
    {
     "name": "stdout",
     "output_type": "stream",
     "text": [
      "HV025: Type of place of residence\n"
     ]
    }
   ],
   "source": [
    "var = 'HV025'\n",
    "print(var + ': ' + q_dict[var])"
   ]
  },
  {
   "cell_type": "code",
   "execution_count": 64,
   "metadata": {
    "collapsed": false
   },
   "outputs": [],
   "source": [
    "stats = {'NAs': df2.isnull().sum(),\n",
    "        'NAs_percent' : (df2.isnull().sum()/len(df2)*100).round(2),\n",
    "        'DataType' : df2.dtypes}\n",
    "\n",
    "stats = DataFrame(stats)\n",
    "stats.index.name = 'Variables'\n",
    "stats.columns.name = 'Stats'"
   ]
  },
  {
   "cell_type": "code",
   "execution_count": 65,
   "metadata": {
    "collapsed": false
   },
   "outputs": [
    {
     "data": {
      "text/html": [
       "<div>\n",
       "<table border=\"1\" class=\"dataframe\">\n",
       "  <thead>\n",
       "    <tr style=\"text-align: right;\">\n",
       "      <th>Stats</th>\n",
       "      <th>DataType</th>\n",
       "      <th>NAs</th>\n",
       "      <th>NAs_percent</th>\n",
       "    </tr>\n",
       "    <tr>\n",
       "      <th>Variables</th>\n",
       "      <th></th>\n",
       "      <th></th>\n",
       "      <th></th>\n",
       "    </tr>\n",
       "  </thead>\n",
       "  <tbody>\n",
       "    <tr>\n",
       "      <th>HV201</th>\n",
       "      <td>object</td>\n",
       "      <td>9</td>\n",
       "      <td>0.01</td>\n",
       "    </tr>\n",
       "    <tr>\n",
       "      <th>HV202</th>\n",
       "      <td>object</td>\n",
       "      <td>14</td>\n",
       "      <td>0.01</td>\n",
       "    </tr>\n",
       "    <tr>\n",
       "      <th>HV205</th>\n",
       "      <td>object</td>\n",
       "      <td>102</td>\n",
       "      <td>0.09</td>\n",
       "    </tr>\n",
       "    <tr>\n",
       "      <th>HV206</th>\n",
       "      <td>object</td>\n",
       "      <td>22</td>\n",
       "      <td>0.02</td>\n",
       "    </tr>\n",
       "    <tr>\n",
       "      <th>HV212</th>\n",
       "      <td>object</td>\n",
       "      <td>50</td>\n",
       "      <td>0.05</td>\n",
       "    </tr>\n",
       "    <tr>\n",
       "      <th>HV213</th>\n",
       "      <td>object</td>\n",
       "      <td>23</td>\n",
       "      <td>0.02</td>\n",
       "    </tr>\n",
       "    <tr>\n",
       "      <th>HV214</th>\n",
       "      <td>object</td>\n",
       "      <td>29</td>\n",
       "      <td>0.03</td>\n",
       "    </tr>\n",
       "    <tr>\n",
       "      <th>HV215</th>\n",
       "      <td>object</td>\n",
       "      <td>49</td>\n",
       "      <td>0.04</td>\n",
       "    </tr>\n",
       "    <tr>\n",
       "      <th>HV216</th>\n",
       "      <td>float64</td>\n",
       "      <td>106</td>\n",
       "      <td>0.10</td>\n",
       "    </tr>\n",
       "    <tr>\n",
       "      <th>HV220</th>\n",
       "      <td>float64</td>\n",
       "      <td>13</td>\n",
       "      <td>0.01</td>\n",
       "    </tr>\n",
       "    <tr>\n",
       "      <th>HV221</th>\n",
       "      <td>object</td>\n",
       "      <td>39</td>\n",
       "      <td>0.04</td>\n",
       "    </tr>\n",
       "    <tr>\n",
       "      <th>HV226</th>\n",
       "      <td>object</td>\n",
       "      <td>26</td>\n",
       "      <td>0.02</td>\n",
       "    </tr>\n",
       "    <tr>\n",
       "      <th>HV227</th>\n",
       "      <td>object</td>\n",
       "      <td>155</td>\n",
       "      <td>0.14</td>\n",
       "    </tr>\n",
       "    <tr>\n",
       "      <th>HV243A</th>\n",
       "      <td>object</td>\n",
       "      <td>40</td>\n",
       "      <td>0.04</td>\n",
       "    </tr>\n",
       "    <tr>\n",
       "      <th>HV244</th>\n",
       "      <td>object</td>\n",
       "      <td>32</td>\n",
       "      <td>0.03</td>\n",
       "    </tr>\n",
       "    <tr>\n",
       "      <th>HV246</th>\n",
       "      <td>object</td>\n",
       "      <td>24</td>\n",
       "      <td>0.02</td>\n",
       "    </tr>\n",
       "    <tr>\n",
       "      <th>HV247</th>\n",
       "      <td>object</td>\n",
       "      <td>118</td>\n",
       "      <td>0.11</td>\n",
       "    </tr>\n",
       "    <tr>\n",
       "      <th>SH44</th>\n",
       "      <td>object</td>\n",
       "      <td>29</td>\n",
       "      <td>0.03</td>\n",
       "    </tr>\n",
       "    <tr>\n",
       "      <th>SH46</th>\n",
       "      <td>object</td>\n",
       "      <td>4207</td>\n",
       "      <td>3.86</td>\n",
       "    </tr>\n",
       "    <tr>\n",
       "      <th>SH47N</th>\n",
       "      <td>object</td>\n",
       "      <td>50</td>\n",
       "      <td>0.05</td>\n",
       "    </tr>\n",
       "    <tr>\n",
       "      <th>SH58</th>\n",
       "      <td>object</td>\n",
       "      <td>74</td>\n",
       "      <td>0.07</td>\n",
       "    </tr>\n",
       "    <tr>\n",
       "      <th>SH62A</th>\n",
       "      <td>object</td>\n",
       "      <td>31</td>\n",
       "      <td>0.03</td>\n",
       "    </tr>\n",
       "    <tr>\n",
       "      <th>SH62F</th>\n",
       "      <td>object</td>\n",
       "      <td>58</td>\n",
       "      <td>0.05</td>\n",
       "    </tr>\n",
       "    <tr>\n",
       "      <th>SHSLI</th>\n",
       "      <td>object</td>\n",
       "      <td>2948</td>\n",
       "      <td>2.70</td>\n",
       "    </tr>\n",
       "  </tbody>\n",
       "</table>\n",
       "</div>"
      ],
      "text/plain": [
       "Stats     DataType   NAs  NAs_percent\n",
       "Variables                            \n",
       "HV201       object     9         0.01\n",
       "HV202       object    14         0.01\n",
       "HV205       object   102         0.09\n",
       "HV206       object    22         0.02\n",
       "HV212       object    50         0.05\n",
       "HV213       object    23         0.02\n",
       "HV214       object    29         0.03\n",
       "HV215       object    49         0.04\n",
       "HV216      float64   106         0.10\n",
       "HV220      float64    13         0.01\n",
       "HV221       object    39         0.04\n",
       "HV226       object    26         0.02\n",
       "HV227       object   155         0.14\n",
       "HV243A      object    40         0.04\n",
       "HV244       object    32         0.03\n",
       "HV246       object    24         0.02\n",
       "HV247       object   118         0.11\n",
       "SH44        object    29         0.03\n",
       "SH46        object  4207         3.86\n",
       "SH47N       object    50         0.05\n",
       "SH58        object    74         0.07\n",
       "SH62A       object    31         0.03\n",
       "SH62F       object    58         0.05\n",
       "SHSLI       object  2948         2.70"
      ]
     },
     "execution_count": 65,
     "metadata": {},
     "output_type": "execute_result"
    }
   ],
   "source": [
    "stats[stats.NAs_percent > 0]"
   ]
  },
  {
   "cell_type": "markdown",
   "metadata": {},
   "source": [
    "## Handling NAs\n",
    "\n",
    "There are not that many NAs, and we have lots of rows, so the easiest thing to do (instead of impuning values) is to simply remove rows with NAs."
   ]
  },
  {
   "cell_type": "code",
   "execution_count": 66,
   "metadata": {
    "collapsed": false
   },
   "outputs": [
    {
     "data": {
      "text/plain": [
       "(109041, 32)"
      ]
     },
     "execution_count": 66,
     "metadata": {},
     "output_type": "execute_result"
    }
   ],
   "source": [
    "df2.shape"
   ]
  },
  {
   "cell_type": "code",
   "execution_count": 67,
   "metadata": {
    "collapsed": true
   },
   "outputs": [],
   "source": [
    "df2 = df2.dropna(axis=0, how='any')"
   ]
  },
  {
   "cell_type": "code",
   "execution_count": 68,
   "metadata": {
    "collapsed": false
   },
   "outputs": [
    {
     "data": {
      "text/plain": [
       "(101728, 32)"
      ]
     },
     "execution_count": 68,
     "metadata": {},
     "output_type": "execute_result"
    }
   ],
   "source": [
    "df2.shape"
   ]
  },
  {
   "cell_type": "markdown",
   "metadata": {},
   "source": [
    "## Quickly check distribution of numerical variables\n",
    "\n",
    "These are `HV216` (# of sleeping rooms), `HV220` (age of HH head), `HV009` (# of HH members)."
   ]
  },
  {
   "cell_type": "code",
   "execution_count": 69,
   "metadata": {
    "collapsed": false
   },
   "outputs": [
    {
     "data": {
      "text/plain": [
       "0.00     3.0\n",
       "0.25    35.0\n",
       "0.50    45.0\n",
       "0.75    57.0\n",
       "1.00    98.0\n",
       "Name: HV220, dtype: float64"
      ]
     },
     "execution_count": 69,
     "metadata": {},
     "output_type": "execute_result"
    },
    {
     "data": {
      "image/png": "[encoded data removed]",
      "text/plain": [
       "<matplotlib.figure.Figure at 0x12099cac8>"
      ]
     },
     "metadata": {},
     "output_type": "display_data"
    }
   ],
   "source": [
    "key = 'HV220'\n",
    "x = df2[key]\n",
    "x.hist()\n",
    "x.quantile([0, .25, .5, .75, 1])\n"
   ]
  },
  {
   "cell_type": "markdown",
   "metadata": {},
   "source": [
    "# 2. No Information Model\n",
    "\n",
    "If we want to predict the sex of the head of the household, easiest thing is to just predict 'Male'.  This will be correct `85.6`% of the time."
   ]
  },
  {
   "cell_type": "code",
   "execution_count": 70,
   "metadata": {
    "collapsed": false
   },
   "outputs": [
    {
     "data": {
      "text/plain": [
       "Male      87107\n",
       "Female    14621\n",
       "Name: HV219, dtype: int64"
      ]
     },
     "execution_count": 70,
     "metadata": {},
     "output_type": "execute_result"
    }
   ],
   "source": [
    "# value counts for HV219\n",
    "df2['HV219'].value_counts()"
   ]
  },
  {
   "cell_type": "code",
   "execution_count": 71,
   "metadata": {
    "collapsed": false
   },
   "outputs": [
    {
     "data": {
      "text/plain": [
       "85.62735923246304"
      ]
     },
     "execution_count": 71,
     "metadata": {},
     "output_type": "execute_result"
    }
   ],
   "source": [
    "len(df2[df2['HV219'] == 'Male'])/len(df2)*100"
   ]
  },
  {
   "cell_type": "markdown",
   "metadata": {},
   "source": [
    "# 3. Overly simple decision tree model, with few predictors"
   ]
  },
  {
   "cell_type": "markdown",
   "metadata": {},
   "source": [
    "From my earlier EDA, I know that the main variables that relate to HV219 in an interesting way are:\n",
    "\n",
    "- HV009: number of listed HH members (numerical)\n",
    "\n",
    "- HV025: rural/urban (categorical)\n",
    "\n",
    "- HV217: household structure (categorical)\n",
    "\n",
    "- HV220: age of HH head (numerical)\n",
    "\n",
    "- HV270: Wealth Index (categorical)"
   ]
  },
  {
   "cell_type": "code",
   "execution_count": 72,
   "metadata": {
    "collapsed": false
   },
   "outputs": [],
   "source": [
    "# for simplicity, restrict to these few columns\n",
    "cols = ['HV009', 'HV025', 'HV217', 'HV220', 'HV270', 'HV219']\n",
    "df = df2[cols]"
   ]
  },
  {
   "cell_type": "code",
   "execution_count": 73,
   "metadata": {
    "collapsed": false
   },
   "outputs": [],
   "source": [
    "# separate features and labels\n",
    "df_all_features = df.drop(['HV219'], axis=1)\n",
    "df_all_labels = df['HV219']"
   ]
  },
  {
   "cell_type": "code",
   "execution_count": 74,
   "metadata": {
    "collapsed": false
   },
   "outputs": [
    {
     "data": {
      "text/html": [
       "<div>\n",
       "<table border=\"1\" class=\"dataframe\">\n",
       "  <thead>\n",
       "    <tr style=\"text-align: right;\">\n",
       "      <th>Variables</th>\n",
       "      <th>HV009</th>\n",
       "      <th>HV025</th>\n",
       "      <th>HV217</th>\n",
       "      <th>HV220</th>\n",
       "      <th>HV270</th>\n",
       "    </tr>\n",
       "  </thead>\n",
       "  <tbody>\n",
       "    <tr>\n",
       "      <th>0</th>\n",
       "      <td>6</td>\n",
       "      <td>Rural</td>\n",
       "      <td>Three+ related adults</td>\n",
       "      <td>60.0</td>\n",
       "      <td>Poorer</td>\n",
       "    </tr>\n",
       "    <tr>\n",
       "      <th>1</th>\n",
       "      <td>5</td>\n",
       "      <td>Rural</td>\n",
       "      <td>Three+ related adults</td>\n",
       "      <td>32.0</td>\n",
       "      <td>Poorer</td>\n",
       "    </tr>\n",
       "    <tr>\n",
       "      <th>2</th>\n",
       "      <td>1</td>\n",
       "      <td>Rural</td>\n",
       "      <td>One adult</td>\n",
       "      <td>60.0</td>\n",
       "      <td>Poorer</td>\n",
       "    </tr>\n",
       "    <tr>\n",
       "      <th>3</th>\n",
       "      <td>5</td>\n",
       "      <td>Rural</td>\n",
       "      <td>Three+ related adults</td>\n",
       "      <td>69.0</td>\n",
       "      <td>Middle</td>\n",
       "    </tr>\n",
       "    <tr>\n",
       "      <th>4</th>\n",
       "      <td>7</td>\n",
       "      <td>Rural</td>\n",
       "      <td>Three+ related adults</td>\n",
       "      <td>65.0</td>\n",
       "      <td>Middle</td>\n",
       "    </tr>\n",
       "  </tbody>\n",
       "</table>\n",
       "</div>"
      ],
      "text/plain": [
       "Variables  HV009  HV025                  HV217  HV220   HV270\n",
       "0              6  Rural  Three+ related adults   60.0  Poorer\n",
       "1              5  Rural  Three+ related adults   32.0  Poorer\n",
       "2              1  Rural              One adult   60.0  Poorer\n",
       "3              5  Rural  Three+ related adults   69.0  Middle\n",
       "4              7  Rural  Three+ related adults   65.0  Middle"
      ]
     },
     "execution_count": 74,
     "metadata": {},
     "output_type": "execute_result"
    }
   ],
   "source": [
    "df_all_features.head()"
   ]
  },
  {
   "cell_type": "code",
   "execution_count": 75,
   "metadata": {
    "collapsed": false
   },
   "outputs": [
    {
     "data": {
      "text/plain": [
       "(101728, 15)"
      ]
     },
     "execution_count": 75,
     "metadata": {},
     "output_type": "execute_result"
    }
   ],
   "source": [
    "# get dummy categorical features\n",
    "df_all_features = pd.get_dummies(df_all_features)\n",
    "df_all_features.shape"
   ]
  },
  {
   "cell_type": "code",
   "execution_count": 76,
   "metadata": {
    "collapsed": false
   },
   "outputs": [
    {
     "data": {
      "text/plain": [
       "Index(['HV009', 'HV220', 'HV025_Rural', 'HV025_Urban', 'HV217_No adults',\n",
       "       'HV217_One adult', 'HV217_Three+ related adults',\n",
       "       'HV217_Two adults, opposite sex', 'HV217_Two adults, same sex',\n",
       "       'HV217_Unrelated adults', 'HV270_Middle', 'HV270_Poorer',\n",
       "       'HV270_Poorest', 'HV270_Richer', 'HV270_Richest'],\n",
       "      dtype='object')"
      ]
     },
     "execution_count": 76,
     "metadata": {},
     "output_type": "execute_result"
    }
   ],
   "source": [
    "df_all_features.columns"
   ]
  },
  {
   "cell_type": "code",
   "execution_count": 77,
   "metadata": {
    "collapsed": false
   },
   "outputs": [],
   "source": [
    "from sklearn.model_selection import train_test_split\n",
    "\n",
    "# split manually into training/testing sets\n",
    "(training_inputs,\n",
    " testing_inputs,\n",
    " training_classes,\n",
    " testing_classes) = train_test_split(df_all_features, df_all_labels, train_size=0.75, random_state=1)"
   ]
  },
  {
   "cell_type": "markdown",
   "metadata": {
    "collapsed": true
   },
   "source": [
    "## Decision tree"
   ]
  },
  {
   "cell_type": "code",
   "execution_count": 78,
   "metadata": {
    "collapsed": false
   },
   "outputs": [
    {
     "name": "stdout",
     "output_type": "stream",
     "text": [
      "CPU times: user 255 ms, sys: 15.3 ms, total: 270 ms\n",
      "Wall time: 288 ms\n"
     ]
    },
    {
     "data": {
      "text/plain": [
       "0.87991506763133065"
      ]
     },
     "execution_count": 78,
     "metadata": {},
     "output_type": "execute_result"
    }
   ],
   "source": [
    "from sklearn.tree import DecisionTreeClassifier\n",
    "from sklearn import tree\n",
    "\n",
    "# create the classifier\n",
    "dtc = DecisionTreeClassifier()\n",
    "\n",
    "# train the classifier on the training set\n",
    "%time dtc.fit(training_inputs, training_classes)\n",
    "\n",
    "# validate the classifier on the testing set using classification accuracy\n",
    "dtc.score(testing_inputs, testing_classes)"
   ]
  },
  {
   "cell_type": "markdown",
   "metadata": {},
   "source": [
    "We can repeat the fit many times and plot the model accuracies."
   ]
  },
  {
   "cell_type": "code",
   "execution_count": 79,
   "metadata": {
    "collapsed": false
   },
   "outputs": [
    {
     "data": {
      "text/plain": [
       "<matplotlib.axes._subplots.AxesSubplot at 0x113de3208>"
      ]
     },
     "execution_count": 79,
     "metadata": {},
     "output_type": "execute_result"
    },
    {
     "data": {
      "image/png": "[encoded data removed]",
      "text/plain": [
       "<matplotlib.figure.Figure at 0x1139a24e0>"
      ]
     },
     "metadata": {},
     "output_type": "display_data"
    }
   ],
   "source": [
    "# do it many times and keep track of the model accuracies, then plot them\n",
    "model_accuracies = []\n",
    "\n",
    "for repetition in range(50):\n",
    "    (training_inputs,\n",
    "     testing_inputs,\n",
    "     training_classes,\n",
    "     testing_classes) = train_test_split(df_all_features, df_all_labels, train_size=0.75)\n",
    "    \n",
    "    dtc = DecisionTreeClassifier()\n",
    "    dtc.fit(training_inputs, training_classes)\n",
    "    classifier_accuracy = dtc.score(testing_inputs, testing_classes)\n",
    "    model_accuracies.append(classifier_accuracy)\n",
    "    \n",
    "sb.distplot(model_accuracies)"
   ]
  },
  {
   "cell_type": "markdown",
   "metadata": {},
   "source": [
    "# 4. Decision tree with all 'interesting' variables"
   ]
  },
  {
   "cell_type": "code",
   "execution_count": 80,
   "metadata": {
    "collapsed": false
   },
   "outputs": [
    {
     "data": {
      "text/plain": [
       "(101728, 32)"
      ]
     },
     "execution_count": 80,
     "metadata": {},
     "output_type": "execute_result"
    }
   ],
   "source": [
    "df2.shape"
   ]
  },
  {
   "cell_type": "code",
   "execution_count": 81,
   "metadata": {
    "collapsed": false
   },
   "outputs": [],
   "source": [
    "# separate features and labels\n",
    "df2_all_features = df2.drop(['HV219'], axis=1)\n",
    "df2_all_labels = df2['HV219']"
   ]
  },
  {
   "cell_type": "code",
   "execution_count": 82,
   "metadata": {
    "collapsed": false
   },
   "outputs": [
    {
     "data": {
      "text/plain": [
       "(101728, 163)"
      ]
     },
     "execution_count": 82,
     "metadata": {},
     "output_type": "execute_result"
    }
   ],
   "source": [
    "# get dummy categorical features\n",
    "df2_all_features = pd.get_dummies(df2_all_features)\n",
    "df2_all_features.shape"
   ]
  },
  {
   "cell_type": "code",
   "execution_count": 83,
   "metadata": {
    "collapsed": true
   },
   "outputs": [],
   "source": [
    "from sklearn.model_selection import train_test_split\n",
    "\n",
    "# split manually into training/testing sets\n",
    "(training_inputs,\n",
    " testing_inputs,\n",
    " training_classes,\n",
    " testing_classes) = train_test_split(df2_all_features, df2_all_labels, train_size=0.75, random_state=1)"
   ]
  },
  {
   "cell_type": "markdown",
   "metadata": {},
   "source": [
    "Now we're ready to build the model."
   ]
  },
  {
   "cell_type": "code",
   "execution_count": 84,
   "metadata": {
    "collapsed": false
   },
   "outputs": [
    {
     "name": "stdout",
     "output_type": "stream",
     "text": [
      "CPU times: user 7.04 s, sys: 242 ms, total: 7.28 s\n",
      "Wall time: 7.97 s\n"
     ]
    },
    {
     "data": {
      "text/plain": [
       "0.83072507077697388"
      ]
     },
     "execution_count": 84,
     "metadata": {},
     "output_type": "execute_result"
    }
   ],
   "source": [
    "# create the classifier\n",
    "dtc = DecisionTreeClassifier()\n",
    "\n",
    "# train the classifier on the training set\n",
    "%time dtc.fit(training_inputs, training_classes)\n",
    "\n",
    "# validate the classifier on the testing set using classification accuracy\n",
    "dtc.score(testing_inputs, testing_classes)"
   ]
  },
  {
   "cell_type": "markdown",
   "metadata": {},
   "source": [
    "Worse than the No Information model.  Overwhelmed by all the dummy versions of categorical variables?"
   ]
  },
  {
   "cell_type": "code",
   "execution_count": 85,
   "metadata": {
    "collapsed": false
   },
   "outputs": [
    {
     "data": {
      "text/plain": [
       "<matplotlib.axes._subplots.AxesSubplot at 0x10ec307b8>"
      ]
     },
     "execution_count": 85,
     "metadata": {},
     "output_type": "execute_result"
    },
    {
     "data": {
      "image/png": "[encoded data removed]",
      "text/plain": [
       "<matplotlib.figure.Figure at 0x10ec367b8>"
      ]
     },
     "metadata": {},
     "output_type": "display_data"
    }
   ],
   "source": [
    "# do it many times and keep track of the model accuracies, then plot them\n",
    "model_accuracies = []\n",
    "\n",
    "for repetition in range(50):\n",
    "    (training_inputs,\n",
    "     testing_inputs,\n",
    "     training_classes,\n",
    "     testing_classes) = train_test_split(df2_all_features, df2_all_labels, train_size=0.75)\n",
    "    \n",
    "    dtc = DecisionTreeClassifier()\n",
    "    dtc.fit(training_inputs, training_classes)\n",
    "    classifier_accuracy = dtc.score(testing_inputs, testing_classes)\n",
    "    model_accuracies.append(classifier_accuracy)\n",
    "    \n",
    "sb.distplot(model_accuracies)"
   ]
  },
  {
   "cell_type": "markdown",
   "metadata": {},
   "source": [
    "# 5. Imputing values and trying a random forest "
   ]
  },
  {
   "cell_type": "markdown",
   "metadata": {},
   "source": [
    "We're first going to load in the data again and check that all of the values in the columns we'll use fall in the range prescribed by the data description file, IAHR52FL.txt."
   ]
  },
  {
   "cell_type": "code",
   "execution_count": 86,
   "metadata": {
    "collapsed": false
   },
   "outputs": [],
   "source": [
    "df = pd.read_csv('household_truncated.csv', na_values='NaN', low_memory=False)\n",
    "df = df[interesting]\n",
    "df_all_features = df.drop(['HV219'], axis=1)\n",
    "df_all_labels = df['HV219']"
   ]
  },
  {
   "cell_type": "code",
   "execution_count": 87,
   "metadata": {
    "collapsed": false
   },
   "outputs": [
    {
     "name": "stdout",
     "output_type": "stream",
     "text": [
      "               HV009          HV216          HV220\n",
      "count  109041.000000  108935.000000  109028.000000\n",
      "mean        4.898717       1.750374      46.322394\n",
      "std         2.518529       0.991199      14.366849\n",
      "min         1.000000       1.000000       3.000000\n",
      "25%         3.000000       1.000000      35.000000\n",
      "50%         5.000000       2.000000      45.000000\n",
      "75%         6.000000       2.000000      57.000000\n",
      "max        35.000000      20.000000      98.000000\n",
      "HV025: 2 unique categories\n",
      "HV026: 4 unique categories\n",
      "HV201: 15 unique categories\n",
      "HV202: 14 unique categories\n",
      "HV205: 13 unique categories\n",
      "HV206: 3 unique categories\n",
      "HV208: 2 unique categories\n",
      "HV212: 3 unique categories\n",
      "HV213: 15 unique categories\n",
      "HV214: 18 unique categories\n",
      "HV215: 21 unique categories\n",
      "HV217: 6 unique categories\n",
      "HV221: 3 unique categories\n",
      "HV226: 12 unique categories\n",
      "HV227: 3 unique categories\n",
      "HV243A: 3 unique categories\n",
      "HV244: 3 unique categories\n",
      "HV246: 3 unique categories\n",
      "HV247: 4 unique categories\n",
      "HV270: 5 unique categories\n",
      "SH44: 12 unique categories\n",
      "SH46: 6 unique categories\n",
      "SH47N: 3 unique categories\n",
      "SH58: 3 unique categories\n",
      "SH62A: 3 unique categories\n",
      "SH62F: 3 unique categories\n",
      "SHSLI: 4 unique categories\n",
      "SHSTRUC: 2 unique categories\n"
     ]
    }
   ],
   "source": [
    "print(df_all_features.describe())\n",
    "for cat in df_all_features.select_dtypes(['O']):\n",
    "    print(\"{0}: {1} unique categories\".format(cat, len(df_all_features[cat].unique())))"
   ]
  },
  {
   "cell_type": "markdown",
   "metadata": {},
   "source": [
    "For HV220 (age of household head), '98' is the response used for 'don't know'. 0-97 are the actual ages.\n",
    "\n",
    "For HV206, HV212, HV221, HV227, HV243A, HV244, HV246, HV247, SH47N, SH58, SH62A, SH62F, and SHSLI, '9' is used to signify 'missing', so we'll need to other take out these rows or impute the missing values.\n",
    "\n",
    "HV226, SH44, and SH46 uses '99' for missing.\n",
    "\n",
    "This suggests (**TODO**) we need to either remove the rows with the 'missing' data or we need to impute the missing values correctly. For now, we've done basic imputation:"
   ]
  },
  {
   "cell_type": "markdown",
   "metadata": {},
   "source": [
    "To be able to use all of our data, we'll try imputing the NA values rather than dropping rows with NA. For the categorical variables, we can impute those by filling NAs with the most frequently occurring category. For the numeric variables, we'll fill with the median of the column. To do both in one shot, we'll use some code taken from [StackOverflow](https://stackoverflow.com/questions/25239958/impute-categorical-missing-values-in-scikit-learn):"
   ]
  },
  {
   "cell_type": "code",
   "execution_count": 88,
   "metadata": {
    "collapsed": true
   },
   "outputs": [],
   "source": [
    "from sklearn.base import TransformerMixin\n",
    "\n",
    "class DataFrameImputer(TransformerMixin):\n",
    "\n",
    "    def __init__(self):\n",
    "        \"\"\"Impute missing values.\n",
    "\n",
    "        Columns of dtype object are imputed with the most frequent value \n",
    "        in column.\n",
    "\n",
    "        Columns of other types are imputed with mean of column.\n",
    "\n",
    "        \"\"\"\n",
    "    def fit(self, X, y=None):\n",
    "\n",
    "        self.fill = pd.Series([X[c].value_counts().index[0]\n",
    "            if X[c].dtype == np.dtype('O') else X[c].mean() for c in X],\n",
    "            index=X.columns)\n",
    "\n",
    "        return self\n",
    "\n",
    "    def transform(self, X, y=None):\n",
    "        return X.fillna(self.fill)"
   ]
  },
  {
   "cell_type": "markdown",
   "metadata": {},
   "source": [
    "Next, we'll binarize our labels (from Male/Female to 0/1), impute missing column data, one-hot encode our existing features, and save the feature names for later use. "
   ]
  },
  {
   "cell_type": "code",
   "execution_count": 89,
   "metadata": {
    "collapsed": false
   },
   "outputs": [],
   "source": [
    "from sklearn import preprocessing\n",
    "\n",
    "df_all_labels = preprocessing.LabelBinarizer().fit_transform(df['HV219'])\n",
    "df_all_features = DataFrameImputer().fit_transform(df_all_features)\n",
    "df_all_features = pd.get_dummies(df_all_features)\n",
    "feature_names = df_all_features.columns"
   ]
  },
  {
   "cell_type": "markdown",
   "metadata": {},
   "source": [
    "We'll run a random forest classifier on our data, finding the optimal number of trees with grid search."
   ]
  },
  {
   "cell_type": "code",
   "execution_count": 91,
   "metadata": {
    "collapsed": false
   },
   "outputs": [
    {
     "name": "stdout",
     "output_type": "stream",
     "text": [
      "Best params from grid search are {'n_estimators': 100}\n",
      "Best score from grid search on left-out data was 0.8961046404988995\n",
      "Random forest accuracy with best params: 0.8982530148103994 \n",
      "Precision: 0.907610847189232 \n",
      "Recall: 0.981169421708661 \n",
      "F1: 0.9429577645818873\n",
      "\n",
      "MOST IMPORTANT FEATURES:\n",
      "HV220\t0.090928\n",
      "HV217_One adult\t0.080051\n",
      "HV009\t0.073486\n",
      "HV217_Two adults, same sex\t0.037470\n",
      "HV217_Two adults, opposite sex\t0.035099\n",
      "HV216\t0.025500\n"
     ]
    }
   ],
   "source": [
    "from sklearn.ensemble import RandomForestClassifier\n",
    "from sklearn.grid_search import GridSearchCV\n",
    "from sklearn import metrics\n",
    "\n",
    "# split the data into training and test\n",
    "X_train, X_test, y_train, y_test = train_test_split(df_all_features, \n",
    "        df_all_labels, train_size=0.8, random_state=1)\n",
    "\n",
    "# sklearn needs column vectors for y\n",
    "y_train, y_test = y_train.ravel(), y_test.ravel()\n",
    "\n",
    "trees_to_test = [10, 20, 50, 100]\n",
    "\n",
    "clf = RandomForestClassifier(random_state=0)\n",
    "grid_clf = GridSearchCV(clf, {'n_estimators': [10, 20, 50, 100]}, cv=10)\n",
    "grid_clf.fit(X_train, y_train)\n",
    "model = grid_clf.best_estimator_\n",
    "print(\"Best params from grid search are %s\" % grid_clf.best_params_)\n",
    "print(\"Best score from grid search on left-out data was %s\" % grid_clf.best_score_)\n",
    "\n",
    "model.fit(X_train, y_train)\n",
    "y_pred = model.predict(X_test)\n",
    "print(\"Random forest accuracy with best params: {0} \\nPrecision: {1} \\nRecall: {2} \\nF1: {3}\"\n",
    "        .format(metrics.accuracy_score(y_test, y_pred), metrics.precision_score(y_test, y_pred),\n",
    "        metrics.recall_score(y_test, y_pred), metrics.f1_score(y_test, y_pred)))\n",
    "\n",
    "zipped = zip(model.feature_importances_, feature_names)\n",
    "zipped = sorted(zipped, key = lambda t: t[0], reverse=True)\n",
    "\n",
    "print(\"\\nMOST IMPORTANT FEATURES:\")\n",
    "for (weight, word) in zipped[:len(interesting) // 5]:\n",
    "    print(\"{}\\t{:.6f}\".format(word, weight))"
   ]
  },
  {
   "cell_type": "markdown",
   "metadata": {},
   "source": [
    "We certainly see a better accuracy with the random forest in predicting the sex of the head of household. Next, we should try imputing the data for the 'hidden' missing values correctly - for values in the dataframe such as '9' or '99' that are used to indicate missing data rather than actually categories/numbers."
   ]
  }
 ],
 "metadata": {
  "kernelspec": {
   "display_name": "Python 3",
   "language": "python",
   "name": "python3"
  },
  "language_info": {
   "codemirror_mode": {
    "name": "ipython",
    "version": 3
   },
   "file_extension": ".py",
   "mimetype": "text/x-python",
   "name": "python",
   "nbconvert_exporter": "python",
   "pygments_lexer": "ipython3",
   "version": "3.4.5"
  }
 },
 "nbformat": 4,
 "nbformat_minor": 2
}
