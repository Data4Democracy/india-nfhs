{
 "cells": [
  {
   "cell_type": "markdown",
   "metadata": {},
   "source": [
    "# Predicting sex of household head in NFHS-3\n",
    "\n",
    "This notebook works with `household_truncated.csv` (just as is on `data.world`) and tries to build a predictive algorithm for `HV219`: sex of household head.  The code could probably be reviewed and improved.  \n",
    "\n",
    "Explanation for NFHS-3 and the project is on the [team GitHub project page](https://github.com/Data4Democracy/india-nfhs).\n",
    "\n",
    "Codebook for variables is available in this folder at `IAHR52FL.txt`.\n",
    "\n",
    "Written by Luke Wolcott."
   ]
  },
  {
   "cell_type": "markdown",
   "metadata": {},
   "source": [
    "## Table of contents\n",
    "\n",
    "1. Import data, remove NAs\n",
    "\n",
    "2. No Information model\n",
    "\n",
    "3. Overly simple decision tree model, with five predictors\n",
    "\n",
    "4. Decision tree with all 'interesting' variables"
   ]
  },
  {
   "cell_type": "markdown",
   "metadata": {},
   "source": [
    "# 1. Import data, remove NAs"
   ]
  },
  {
   "cell_type": "code",
   "execution_count": 1,
   "metadata": {
    "collapsed": true
   },
   "outputs": [],
   "source": [
    "import pandas as pd\n",
    "import numpy as np\n",
    "from pandas import Series, DataFrame\n",
    "import seaborn as sb \n",
    "\n",
    "%matplotlib inline\n",
    "import matplotlib.pyplot as plt\n",
    "\n",
    "# use low_memory = False so that it reads the dtypes correctly\n",
    "df = pd.read_csv('household_truncated.csv', na_values='NaN', low_memory=False)"
   ]
  },
  {
   "cell_type": "code",
   "execution_count": 2,
   "metadata": {
    "collapsed": true
   },
   "outputs": [],
   "source": [
    "import warnings\n",
    "warnings.filterwarnings('ignore') #Supress unnecessary warnings for readability"
   ]
  },
  {
   "cell_type": "code",
   "execution_count": 3,
   "metadata": {
    "collapsed": true
   },
   "outputs": [],
   "source": [
    "interesting = ['HV009','HV025', 'HV026', 'HV201', 'HV202', 'HV205', 'HV206', 'HV208', 'HV212', 'HV213',\n",
    "              'HV214', 'HV215', 'HV216', 'HV217', 'HV219', 'HV220', 'HV221', 'HV226', 'HV227',\n",
    "              'HV243A', 'HV244', 'HV246', 'HV247', 'HV270', 'SH44', 'SH46', 'SH47N', 'SH58', \n",
    "              'SH62A', 'SH62F', 'SHSLI', 'SHSTRUC']"
   ]
  },
  {
   "cell_type": "code",
   "execution_count": 4,
   "metadata": {
    "collapsed": true
   },
   "outputs": [],
   "source": [
    "# subset for 'interesting' variables\n",
    "df2 = df[interesting]"
   ]
  },
  {
   "cell_type": "code",
   "execution_count": 5,
   "metadata": {
    "collapsed": true
   },
   "outputs": [],
   "source": [
    "# dict to easily keep track of which survey questions these variables correspond to\n",
    "q_dict = {'HV009':'Number of listed household members' ,\n",
    "          'HV025': 'Type of place of residence', 'HV026' : 'Place of residence',\n",
    "          'HV201' : 'Source of drinking water', 'HV202':'Source of non-drinking water', \n",
    "          'HV205':'Type of toilet facility', 'HV206':'Has electricity', \n",
    "          'HV208':'Has television', 'HV212':'Has car', 'HV213':'Main floor material',\n",
    "          'HV214':'Main wall [exterior] material', 'HV215':'Main roof material',\n",
    "          'HV216':'Rooms used for sleeping', 'HV217':'Relationship structure',\n",
    "          'HV219': 'Sex of head of household', 'HV220':'Age of head of household',\n",
    "          'HV221':'Has telephone (non-mobile)', \n",
    "          'HV226':'Type of cooking fuel', 'HV227':'Have bednet for sleeping',\n",
    "          'HV243A': 'Has mobile telephone',\n",
    "          'HV244':'Owns land usable for agriculture', 'HV246':'Livestock, herds or farm animals',\n",
    "          'HV247':'Owns a bank account or post office account', 'HV270':'Wealth Index',\n",
    "          'SH44':'Household head\\'s religion', 'SH46':'Type of caste or tribe of the HH head',\n",
    "          'SH47N':'Has computer', 'SH58':'Owns this or any other house',\n",
    "          'SH62A':'Has cows/bulls/buffalo', 'SH62F':'Has chickens',\n",
    "          'SHSLI':'Standard of Living Index', 'SHSTRUC':'Household structure'}"
   ]
  },
  {
   "cell_type": "code",
   "execution_count": 6,
   "metadata": {
    "collapsed": false
   },
   "outputs": [
    {
     "name": "stdout",
     "output_type": "stream",
     "text": [
      "HV025: Type of place of residence\n"
     ]
    }
   ],
   "source": [
    "var = 'HV025'\n",
    "print(var + ': ' + q_dict[var])"
   ]
  },
  {
   "cell_type": "code",
   "execution_count": 7,
   "metadata": {
    "collapsed": false
   },
   "outputs": [],
   "source": [
    "stats = {'NAs': df2.isnull().sum(),\n",
    "        'NAs_percent' : (df2.isnull().sum()/len(df2)*100).round(2),\n",
    "        'DataType' : df2.dtypes}\n",
    "\n",
    "stats = DataFrame(stats)\n",
    "stats.index.name = 'Variables'\n",
    "stats.columns.name = 'Stats'"
   ]
  },
  {
   "cell_type": "code",
   "execution_count": 26,
   "metadata": {
    "collapsed": false
   },
   "outputs": [
    {
     "data": {
      "text/html": [
       "<div>\n",
       "<style>\n",
       "    .dataframe thead tr:only-child th {\n",
       "        text-align: right;\n",
       "    }\n",
       "\n",
       "    .dataframe thead th {\n",
       "        text-align: left;\n",
       "    }\n",
       "\n",
       "    .dataframe tbody tr th {\n",
       "        vertical-align: top;\n",
       "    }\n",
       "</style>\n",
       "<table border=\"1\" class=\"dataframe\">\n",
       "  <thead>\n",
       "    <tr style=\"text-align: right;\">\n",
       "      <th>Stats</th>\n",
       "      <th>DataType</th>\n",
       "      <th>NAs</th>\n",
       "      <th>NAs_percent</th>\n",
       "    </tr>\n",
       "    <tr>\n",
       "      <th>Variables</th>\n",
       "      <th></th>\n",
       "      <th></th>\n",
       "      <th></th>\n",
       "    </tr>\n",
       "  </thead>\n",
       "  <tbody>\n",
       "    <tr>\n",
       "      <th>HV201</th>\n",
       "      <td>object</td>\n",
       "      <td>9</td>\n",
       "      <td>0.01</td>\n",
       "    </tr>\n",
       "    <tr>\n",
       "      <th>HV202</th>\n",
       "      <td>object</td>\n",
       "      <td>14</td>\n",
       "      <td>0.01</td>\n",
       "    </tr>\n",
       "    <tr>\n",
       "      <th>HV205</th>\n",
       "      <td>object</td>\n",
       "      <td>102</td>\n",
       "      <td>0.09</td>\n",
       "    </tr>\n",
       "    <tr>\n",
       "      <th>HV206</th>\n",
       "      <td>object</td>\n",
       "      <td>22</td>\n",
       "      <td>0.02</td>\n",
       "    </tr>\n",
       "    <tr>\n",
       "      <th>HV212</th>\n",
       "      <td>object</td>\n",
       "      <td>50</td>\n",
       "      <td>0.05</td>\n",
       "    </tr>\n",
       "    <tr>\n",
       "      <th>HV213</th>\n",
       "      <td>object</td>\n",
       "      <td>23</td>\n",
       "      <td>0.02</td>\n",
       "    </tr>\n",
       "    <tr>\n",
       "      <th>HV214</th>\n",
       "      <td>object</td>\n",
       "      <td>29</td>\n",
       "      <td>0.03</td>\n",
       "    </tr>\n",
       "    <tr>\n",
       "      <th>HV215</th>\n",
       "      <td>object</td>\n",
       "      <td>49</td>\n",
       "      <td>0.04</td>\n",
       "    </tr>\n",
       "    <tr>\n",
       "      <th>HV216</th>\n",
       "      <td>float64</td>\n",
       "      <td>106</td>\n",
       "      <td>0.10</td>\n",
       "    </tr>\n",
       "    <tr>\n",
       "      <th>HV220</th>\n",
       "      <td>float64</td>\n",
       "      <td>13</td>\n",
       "      <td>0.01</td>\n",
       "    </tr>\n",
       "    <tr>\n",
       "      <th>HV221</th>\n",
       "      <td>object</td>\n",
       "      <td>39</td>\n",
       "      <td>0.04</td>\n",
       "    </tr>\n",
       "    <tr>\n",
       "      <th>HV226</th>\n",
       "      <td>object</td>\n",
       "      <td>26</td>\n",
       "      <td>0.02</td>\n",
       "    </tr>\n",
       "    <tr>\n",
       "      <th>HV227</th>\n",
       "      <td>object</td>\n",
       "      <td>155</td>\n",
       "      <td>0.14</td>\n",
       "    </tr>\n",
       "    <tr>\n",
       "      <th>HV243A</th>\n",
       "      <td>object</td>\n",
       "      <td>40</td>\n",
       "      <td>0.04</td>\n",
       "    </tr>\n",
       "    <tr>\n",
       "      <th>HV244</th>\n",
       "      <td>object</td>\n",
       "      <td>32</td>\n",
       "      <td>0.03</td>\n",
       "    </tr>\n",
       "    <tr>\n",
       "      <th>HV246</th>\n",
       "      <td>object</td>\n",
       "      <td>24</td>\n",
       "      <td>0.02</td>\n",
       "    </tr>\n",
       "    <tr>\n",
       "      <th>HV247</th>\n",
       "      <td>object</td>\n",
       "      <td>118</td>\n",
       "      <td>0.11</td>\n",
       "    </tr>\n",
       "    <tr>\n",
       "      <th>SH44</th>\n",
       "      <td>object</td>\n",
       "      <td>29</td>\n",
       "      <td>0.03</td>\n",
       "    </tr>\n",
       "    <tr>\n",
       "      <th>SH46</th>\n",
       "      <td>object</td>\n",
       "      <td>4207</td>\n",
       "      <td>3.86</td>\n",
       "    </tr>\n",
       "    <tr>\n",
       "      <th>SH47N</th>\n",
       "      <td>object</td>\n",
       "      <td>50</td>\n",
       "      <td>0.05</td>\n",
       "    </tr>\n",
       "    <tr>\n",
       "      <th>SH58</th>\n",
       "      <td>object</td>\n",
       "      <td>74</td>\n",
       "      <td>0.07</td>\n",
       "    </tr>\n",
       "    <tr>\n",
       "      <th>SH62A</th>\n",
       "      <td>object</td>\n",
       "      <td>31</td>\n",
       "      <td>0.03</td>\n",
       "    </tr>\n",
       "    <tr>\n",
       "      <th>SH62F</th>\n",
       "      <td>object</td>\n",
       "      <td>58</td>\n",
       "      <td>0.05</td>\n",
       "    </tr>\n",
       "    <tr>\n",
       "      <th>SHSLI</th>\n",
       "      <td>object</td>\n",
       "      <td>2948</td>\n",
       "      <td>2.70</td>\n",
       "    </tr>\n",
       "  </tbody>\n",
       "</table>\n",
       "</div>"
      ],
      "text/plain": [
       "Stats     DataType   NAs  NAs_percent\n",
       "Variables                            \n",
       "HV201       object     9         0.01\n",
       "HV202       object    14         0.01\n",
       "HV205       object   102         0.09\n",
       "HV206       object    22         0.02\n",
       "HV212       object    50         0.05\n",
       "HV213       object    23         0.02\n",
       "HV214       object    29         0.03\n",
       "HV215       object    49         0.04\n",
       "HV216      float64   106         0.10\n",
       "HV220      float64    13         0.01\n",
       "HV221       object    39         0.04\n",
       "HV226       object    26         0.02\n",
       "HV227       object   155         0.14\n",
       "HV243A      object    40         0.04\n",
       "HV244       object    32         0.03\n",
       "HV246       object    24         0.02\n",
       "HV247       object   118         0.11\n",
       "SH44        object    29         0.03\n",
       "SH46        object  4207         3.86\n",
       "SH47N       object    50         0.05\n",
       "SH58        object    74         0.07\n",
       "SH62A       object    31         0.03\n",
       "SH62F       object    58         0.05\n",
       "SHSLI       object  2948         2.70"
      ]
     },
     "execution_count": 26,
     "metadata": {},
     "output_type": "execute_result"
    }
   ],
   "source": [
    "stats[stats.NAs_percent > 0]"
   ]
  },
  {
   "cell_type": "markdown",
   "metadata": {},
   "source": [
    "## Handling NAs\n",
    "\n",
    "There are not that many NAs, and we have lots of rows, so the easiest thing to do (instead of impuning values) is to simply remove rows with NAs."
   ]
  },
  {
   "cell_type": "code",
   "execution_count": 8,
   "metadata": {
    "collapsed": false
   },
   "outputs": [
    {
     "data": {
      "text/plain": [
       "(109041, 32)"
      ]
     },
     "execution_count": 8,
     "metadata": {},
     "output_type": "execute_result"
    }
   ],
   "source": [
    "df2.shape"
   ]
  },
  {
   "cell_type": "code",
   "execution_count": 9,
   "metadata": {
    "collapsed": true
   },
   "outputs": [],
   "source": [
    "df2 = df2.dropna(axis=0, how='any')"
   ]
  },
  {
   "cell_type": "code",
   "execution_count": 10,
   "metadata": {
    "collapsed": false
   },
   "outputs": [
    {
     "data": {
      "text/plain": [
       "(101728, 32)"
      ]
     },
     "execution_count": 10,
     "metadata": {},
     "output_type": "execute_result"
    }
   ],
   "source": [
    "df2.shape"
   ]
  },
  {
   "cell_type": "markdown",
   "metadata": {},
   "source": [
    "## Quickly check distribution of numerical variables\n",
    "\n",
    "These are `HV216` (# of sleeping rooms), `HV220` (age of HH head), `HV009` (# of HH members)."
   ]
  },
  {
   "cell_type": "code",
   "execution_count": 11,
   "metadata": {
    "collapsed": false
   },
   "outputs": [
    {
     "data": {
      "text/plain": [
       "0.00     3.0\n",
       "0.25    35.0\n",
       "0.50    45.0\n",
       "0.75    57.0\n",
       "1.00    98.0\n",
       "Name: HV220, dtype: float64"
      ]
     },
     "execution_count": 11,
     "metadata": {},
     "output_type": "execute_result"
    },
    {
     "data": {
      "image/png": "[encoded data removed]",
      "text/plain": [
       "<matplotlib.figure.Figure at 0x10de8a748>"
      ]
     },
     "metadata": {},
     "output_type": "display_data"
    }
   ],
   "source": [
    "key = 'HV220'\n",
    "x = df2[key]\n",
    "x.hist()\n",
    "x.quantile([0, .25, .5, .75, 1])\n"
   ]
  },
  {
   "cell_type": "markdown",
   "metadata": {},
   "source": [
    "# 2. No Information Model\n",
    "\n",
    "If we want to predict the sex of the head of the household, easiest thing is to just predict 'Male'.  This will be correct `85.6`% of the time."
   ]
  },
  {
   "cell_type": "code",
   "execution_count": 12,
   "metadata": {
    "collapsed": false
   },
   "outputs": [
    {
     "data": {
      "text/plain": [
       "Male      87107\n",
       "Female    14621\n",
       "Name: HV219, dtype: int64"
      ]
     },
     "execution_count": 12,
     "metadata": {},
     "output_type": "execute_result"
    }
   ],
   "source": [
    "# value counts for HV219\n",
    "df2['HV219'].value_counts()"
   ]
  },
  {
   "cell_type": "code",
   "execution_count": 13,
   "metadata": {
    "collapsed": false
   },
   "outputs": [
    {
     "data": {
      "text/plain": [
       "85.62735923246304"
      ]
     },
     "execution_count": 13,
     "metadata": {},
     "output_type": "execute_result"
    }
   ],
   "source": [
    "len(df2[df2['HV219'] == 'Male'])/len(df2)*100"
   ]
  },
  {
   "cell_type": "markdown",
   "metadata": {},
   "source": [
    "# 3. Overly simple decision tree model, with few predictors"
   ]
  },
  {
   "cell_type": "markdown",
   "metadata": {},
   "source": [
    "From my earlier EDA, I know that the main variables that relate to HV219 in an interesting way are:\n",
    "\n",
    "- HV009: number of listed HH members (numerical)\n",
    "\n",
    "- HV025: rural/urban (categorical)\n",
    "\n",
    "- HV217: household structure (categorical)\n",
    "\n",
    "- HV220: age of HH head (numerical)\n",
    "\n",
    "- HV270: Wealth Index (categorical)"
   ]
  },
  {
   "cell_type": "code",
   "execution_count": 14,
   "metadata": {
    "collapsed": false
   },
   "outputs": [],
   "source": [
    "# for simplicity, restrict to these few columns\n",
    "cols = ['HV009', 'HV025', 'HV217', 'HV220', 'HV270', 'HV219']\n",
    "df = df2[cols]"
   ]
  },
  {
   "cell_type": "code",
   "execution_count": 15,
   "metadata": {
    "collapsed": false
   },
   "outputs": [],
   "source": [
    "# separate features and labels\n",
    "df_all_features = df.drop(['HV219'], axis=1)\n",
    "df_all_labels = df['HV219']"
   ]
  },
  {
   "cell_type": "code",
   "execution_count": 16,
   "metadata": {
    "collapsed": false
   },
   "outputs": [
    {
     "data": {
      "text/html": [
       "<div>\n",
       "<style>\n",
       "    .dataframe thead tr:only-child th {\n",
       "        text-align: right;\n",
       "    }\n",
       "\n",
       "    .dataframe thead th {\n",
       "        text-align: left;\n",
       "    }\n",
       "\n",
       "    .dataframe tbody tr th {\n",
       "        vertical-align: top;\n",
       "    }\n",
       "</style>\n",
       "<table border=\"1\" class=\"dataframe\">\n",
       "  <thead>\n",
       "    <tr style=\"text-align: right;\">\n",
       "      <th>Variables</th>\n",
       "      <th>HV009</th>\n",
       "      <th>HV025</th>\n",
       "      <th>HV217</th>\n",
       "      <th>HV220</th>\n",
       "      <th>HV270</th>\n",
       "    </tr>\n",
       "  </thead>\n",
       "  <tbody>\n",
       "    <tr>\n",
       "      <th>0</th>\n",
       "      <td>6</td>\n",
       "      <td>Rural</td>\n",
       "      <td>Three+ related adults</td>\n",
       "      <td>60.0</td>\n",
       "      <td>Poorer</td>\n",
       "    </tr>\n",
       "    <tr>\n",
       "      <th>1</th>\n",
       "      <td>5</td>\n",
       "      <td>Rural</td>\n",
       "      <td>Three+ related adults</td>\n",
       "      <td>32.0</td>\n",
       "      <td>Poorer</td>\n",
       "    </tr>\n",
       "    <tr>\n",
       "      <th>2</th>\n",
       "      <td>1</td>\n",
       "      <td>Rural</td>\n",
       "      <td>One adult</td>\n",
       "      <td>60.0</td>\n",
       "      <td>Poorer</td>\n",
       "    </tr>\n",
       "    <tr>\n",
       "      <th>3</th>\n",
       "      <td>5</td>\n",
       "      <td>Rural</td>\n",
       "      <td>Three+ related adults</td>\n",
       "      <td>69.0</td>\n",
       "      <td>Middle</td>\n",
       "    </tr>\n",
       "    <tr>\n",
       "      <th>4</th>\n",
       "      <td>7</td>\n",
       "      <td>Rural</td>\n",
       "      <td>Three+ related adults</td>\n",
       "      <td>65.0</td>\n",
       "      <td>Middle</td>\n",
       "    </tr>\n",
       "  </tbody>\n",
       "</table>\n",
       "</div>"
      ],
      "text/plain": [
       "Variables  HV009  HV025                  HV217  HV220   HV270\n",
       "0              6  Rural  Three+ related adults   60.0  Poorer\n",
       "1              5  Rural  Three+ related adults   32.0  Poorer\n",
       "2              1  Rural              One adult   60.0  Poorer\n",
       "3              5  Rural  Three+ related adults   69.0  Middle\n",
       "4              7  Rural  Three+ related adults   65.0  Middle"
      ]
     },
     "execution_count": 16,
     "metadata": {},
     "output_type": "execute_result"
    }
   ],
   "source": [
    "df_all_features.head()"
   ]
  },
  {
   "cell_type": "code",
   "execution_count": 17,
   "metadata": {
    "collapsed": false
   },
   "outputs": [
    {
     "data": {
      "text/plain": [
       "(101728, 15)"
      ]
     },
     "execution_count": 17,
     "metadata": {},
     "output_type": "execute_result"
    }
   ],
   "source": [
    "# get dummy categorical features\n",
    "df_all_features = pd.get_dummies(df_all_features)\n",
    "df_all_features.shape"
   ]
  },
  {
   "cell_type": "code",
   "execution_count": 18,
   "metadata": {
    "collapsed": false
   },
   "outputs": [
    {
     "data": {
      "text/plain": [
       "Index(['HV009', 'HV220', 'HV025_Rural', 'HV025_Urban', 'HV217_No adults',\n",
       "       'HV217_One adult', 'HV217_Three+ related adults',\n",
       "       'HV217_Two adults, opposite sex', 'HV217_Two adults, same sex',\n",
       "       'HV217_Unrelated adults', 'HV270_Middle', 'HV270_Poorer',\n",
       "       'HV270_Poorest', 'HV270_Richer', 'HV270_Richest'],\n",
       "      dtype='object')"
      ]
     },
     "execution_count": 18,
     "metadata": {},
     "output_type": "execute_result"
    }
   ],
   "source": [
    "df_all_features.columns"
   ]
  },
  {
   "cell_type": "code",
   "execution_count": 19,
   "metadata": {
    "collapsed": false
   },
   "outputs": [],
   "source": [
    "from sklearn.model_selection import train_test_split\n",
    "\n",
    "# split manually into training/testing sets\n",
    "(training_inputs,\n",
    " testing_inputs,\n",
    " training_classes,\n",
    " testing_classes) = train_test_split(df_all_features, df_all_labels, train_size=0.75, random_state=1)"
   ]
  },
  {
   "cell_type": "markdown",
   "metadata": {
    "collapsed": true
   },
   "source": [
    "## Decision tree"
   ]
  },
  {
   "cell_type": "code",
   "execution_count": 20,
   "metadata": {
    "collapsed": false
   },
   "outputs": [
    {
     "name": "stdout",
     "output_type": "stream",
     "text": [
      "CPU times: user 296 ms, sys: 13.4 ms, total: 310 ms\n",
      "Wall time: 348 ms\n"
     ]
    },
    {
     "data": {
      "text/plain": [
       "0.87995438817238125"
      ]
     },
     "execution_count": 20,
     "metadata": {},
     "output_type": "execute_result"
    }
   ],
   "source": [
    "from sklearn.tree import DecisionTreeClassifier\n",
    "from sklearn import tree\n",
    "\n",
    "# create the classifier\n",
    "dtc = DecisionTreeClassifier()\n",
    "\n",
    "# train the classifier on the training set\n",
    "%time dtc.fit(training_inputs, training_classes)\n",
    "\n",
    "# validate the classifier on the testing set using classification accuracy\n",
    "dtc.score(testing_inputs, testing_classes)"
   ]
  },
  {
   "cell_type": "markdown",
   "metadata": {},
   "source": [
    "We can repeat the fit many times and plot the model accuracies."
   ]
  },
  {
   "cell_type": "code",
   "execution_count": 22,
   "metadata": {
    "collapsed": false
   },
   "outputs": [
    {
     "data": {
      "text/plain": [
       "<matplotlib.axes._subplots.AxesSubplot at 0x11b325a58>"
      ]
     },
     "execution_count": 22,
     "metadata": {},
     "output_type": "execute_result"
    },
    {
     "data": {
      "image/png": "[encoded data removed]",
      "text/plain": [
       "<matplotlib.figure.Figure at 0x119913320>"
      ]
     },
     "metadata": {},
     "output_type": "display_data"
    }
   ],
   "source": [
    "# do it many times and keep track of the model accuracies, then plot them\n",
    "model_accuracies = []\n",
    "\n",
    "for repetition in range(50):\n",
    "    (training_inputs,\n",
    "     testing_inputs,\n",
    "     training_classes,\n",
    "     testing_classes) = train_test_split(df_all_features, df_all_labels, train_size=0.75)\n",
    "    \n",
    "    dtc = DecisionTreeClassifier()\n",
    "    dtc.fit(training_inputs, training_classes)\n",
    "    classifier_accuracy = dtc.score(testing_inputs, testing_classes)\n",
    "    model_accuracies.append(classifier_accuracy)\n",
    "    \n",
    "sb.distplot(model_accuracies)"
   ]
  },
  {
   "cell_type": "markdown",
   "metadata": {},
   "source": [
    "# 4. Decision tree with all 'interesting' variables"
   ]
  },
  {
   "cell_type": "code",
   "execution_count": 23,
   "metadata": {
    "collapsed": false
   },
   "outputs": [
    {
     "data": {
      "text/plain": [
       "(101728, 32)"
      ]
     },
     "execution_count": 23,
     "metadata": {},
     "output_type": "execute_result"
    }
   ],
   "source": [
    "df2.shape"
   ]
  },
  {
   "cell_type": "code",
   "execution_count": 24,
   "metadata": {
    "collapsed": false
   },
   "outputs": [],
   "source": [
    "# separate features and labels\n",
    "df2_all_features = df2.drop(['HV219'], axis=1)\n",
    "df2_all_labels = df2['HV219']"
   ]
  },
  {
   "cell_type": "code",
   "execution_count": 25,
   "metadata": {
    "collapsed": false
   },
   "outputs": [
    {
     "data": {
      "text/plain": [
       "(101728, 163)"
      ]
     },
     "execution_count": 25,
     "metadata": {},
     "output_type": "execute_result"
    }
   ],
   "source": [
    "# get dummy categorical features\n",
    "df2_all_features = pd.get_dummies(df2_all_features)\n",
    "df2_all_features.shape"
   ]
  },
  {
   "cell_type": "code",
   "execution_count": 26,
   "metadata": {
    "collapsed": true
   },
   "outputs": [],
   "source": [
    "from sklearn.model_selection import train_test_split\n",
    "\n",
    "# split manually into training/testing sets\n",
    "(training_inputs,\n",
    " testing_inputs,\n",
    " training_classes,\n",
    " testing_classes) = train_test_split(df2_all_features, df2_all_labels, train_size=0.75, random_state=1)"
   ]
  },
  {
   "cell_type": "markdown",
   "metadata": {},
   "source": [
    "Now we're ready to build the model."
   ]
  },
  {
   "cell_type": "code",
   "execution_count": 27,
   "metadata": {
    "collapsed": false
   },
   "outputs": [
    {
     "name": "stdout",
     "output_type": "stream",
     "text": [
      "CPU times: user 2.97 s, sys: 108 ms, total: 3.08 s\n",
      "Wall time: 3.37 s\n"
     ]
    },
    {
     "data": {
      "text/plain": [
       "0.83182604592639198"
      ]
     },
     "execution_count": 27,
     "metadata": {},
     "output_type": "execute_result"
    }
   ],
   "source": [
    "# create the classifier\n",
    "dtc = DecisionTreeClassifier()\n",
    "\n",
    "# train the classifier on the training set\n",
    "%time dtc.fit(training_inputs, training_classes)\n",
    "\n",
    "# validate the classifier on the testing set using classification accuracy\n",
    "dtc.score(testing_inputs, testing_classes)"
   ]
  },
  {
   "cell_type": "markdown",
   "metadata": {},
   "source": [
    "Worse than the No Information model.  Overwhelmed by all the dummy versions of categorical variables?"
   ]
  },
  {
   "cell_type": "code",
   "execution_count": 29,
   "metadata": {
    "collapsed": false
   },
   "outputs": [
    {
     "data": {
      "text/plain": [
       "<matplotlib.axes._subplots.AxesSubplot at 0x10f999198>"
      ]
     },
     "execution_count": 29,
     "metadata": {},
     "output_type": "execute_result"
    },
    {
     "data": {
      "image/png": "[encoded data removed]",
      "text/plain": [
       "<matplotlib.figure.Figure at 0x1229a9240>"
      ]
     },
     "metadata": {},
     "output_type": "display_data"
    }
   ],
   "source": [
    "# do it many times and keep track of the model accuracies, then plot them\n",
    "model_accuracies = []\n",
    "\n",
    "for repetition in range(50):\n",
    "    (training_inputs,\n",
    "     testing_inputs,\n",
    "     training_classes,\n",
    "     testing_classes) = train_test_split(df2_all_features, df2_all_labels, train_size=0.75)\n",
    "    \n",
    "    dtc = DecisionTreeClassifier()\n",
    "    dtc.fit(training_inputs, training_classes)\n",
    "    classifier_accuracy = dtc.score(testing_inputs, testing_classes)\n",
    "    model_accuracies.append(classifier_accuracy)\n",
    "    \n",
    "sb.distplot(model_accuracies)"
   ]
  }
 ],
 "metadata": {
  "kernelspec": {
   "display_name": "Python 3",
   "language": "python",
   "name": "python3"
  },
  "language_info": {
   "codemirror_mode": {
    "name": "ipython",
    "version": 3
   },
   "file_extension": ".py",
   "mimetype": "text/x-python",
   "name": "python",
   "nbconvert_exporter": "python",
   "pygments_lexer": "ipython3",
   "version": "3.6.0"
  }
 },
 "nbformat": 4,
 "nbformat_minor": 2
}
