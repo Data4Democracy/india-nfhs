{
 "cells": [
  {
   "cell_type": "markdown",
   "metadata": {},
   "source": [
    "# Basic exploratory data analysis on NFHS-3\n",
    "\n",
    "This notebook cleans up `household_truncated.csv` (just as is on `data.world`) and makes some initial exploratory plots.  The code could probably be reviewed and improved.  \n",
    "\n",
    "Explanation for NFHS-3 and the project is on the [team GitHub project page](https://github.com/Data4Democracy/india-nfhs).\n",
    "\n",
    "Codebook for variables is available in this folder at `IAHR52FL.txt`."
   ]
  },
  {
   "cell_type": "markdown",
   "metadata": {},
   "source": [
    "## Table of contents:\n",
    "\n",
    "- **Reading in file, removing NAs**\n",
    "\n",
    "- **Male versus female household head (`HV219`), first pass:** sex of HH head varies with HH 'relationship structure'\n",
    "\n",
    "- **`HV219` versus other variables, programmatically:** looking for patterns\n",
    "\n",
    "- **Three main takeaways:** besides HH structure, sex of HH head varies significantly by size of HH, age of HH head, and rural/urban status"
   ]
  },
  {
   "cell_type": "markdown",
   "metadata": {},
   "source": [
    "# Reading in file, removing NAs"
   ]
  },
  {
   "cell_type": "code",
   "execution_count": 25,
   "metadata": {
    "collapsed": false
   },
   "outputs": [],
   "source": [
    "import pandas as pd\n",
    "import numpy as np\n",
    "from pandas import Series, DataFrame\n",
    "\n",
    "%matplotlib inline\n",
    "import matplotlib.pyplot as plt\n",
    "\n",
    "# use low_memory = False so that it reads the dtypes correctly\n",
    "df = pd.read_csv('household_truncated.csv', na_values='NaN', low_memory=False)"
   ]
  },
  {
   "cell_type": "code",
   "execution_count": 26,
   "metadata": {
    "collapsed": false
   },
   "outputs": [
    {
     "data": {
      "text/plain": [
       "(109041, 198)"
      ]
     },
     "execution_count": 26,
     "metadata": {},
     "output_type": "execute_result"
    }
   ],
   "source": [
    "# original shape of df\n",
    "df.shape"
   ]
  },
  {
   "cell_type": "code",
   "execution_count": 27,
   "metadata": {
    "collapsed": false
   },
   "outputs": [
    {
     "data": {
      "text/plain": [
       "Index(['HHID', 'HV000', 'HV001', 'HV002', 'HV003', 'HV004', 'HV005', 'HV006',\n",
       "       'HV007', 'HV008',\n",
       "       ...\n",
       "       'SH65D', 'SH65E', 'SH65F', 'SH65X', 'SH66', 'SHSLI', 'SHNFHS2',\n",
       "       'SHSTRUC', 'HVHIVWT', 'HVHIVWTS'],\n",
       "      dtype='object', length=198)"
      ]
     },
     "execution_count": 27,
     "metadata": {},
     "output_type": "execute_result"
    }
   ],
   "source": [
    "# sample of column names; see IAHR52FL.txt for corresponding survey questions\n",
    "df.columns"
   ]
  },
  {
   "cell_type": "markdown",
   "metadata": {},
   "source": [
    "### Missing values"
   ]
  },
  {
   "cell_type": "code",
   "execution_count": 28,
   "metadata": {
    "collapsed": false
   },
   "outputs": [
    {
     "data": {
      "text/plain": [
       "HHID             0\n",
       "HV000            0\n",
       "HV001            0\n",
       "HV002            0\n",
       "HV003            0\n",
       "HV004       109041\n",
       "HV005            0\n",
       "HV006            0\n",
       "HV007            0\n",
       "HV008            0\n",
       "HV009            0\n",
       "HV010            0\n",
       "HV011            0\n",
       "HV012            0\n",
       "HV013            0\n",
       "HV014            0\n",
       "HV015            0\n",
       "HV016            0\n",
       "HV017            0\n",
       "HV018            0\n",
       "HV019            0\n",
       "HV020            0\n",
       "HV021       109041\n",
       "HV022            0\n",
       "HV023            0\n",
       "HV024            0\n",
       "HV025            0\n",
       "HV026            0\n",
       "HV027            0\n",
       "HV028        40185\n",
       "             ...  \n",
       "SH58ED      104574\n",
       "SH58EE      104573\n",
       "SH58EF      104574\n",
       "SH58EG      104575\n",
       "SH58EH      104574\n",
       "SH58EI      104575\n",
       "SH60         65149\n",
       "SH61         65149\n",
       "SH60H        65149\n",
       "SH61H        65149\n",
       "SH62A           31\n",
       "SH62B           41\n",
       "SH62C           48\n",
       "SH62D           39\n",
       "SH62E           64\n",
       "SH62F           58\n",
       "SH64            38\n",
       "SH65A       102269\n",
       "SH65B       102269\n",
       "SH65C       102269\n",
       "SH65D       102269\n",
       "SH65E       102269\n",
       "SH65F       102269\n",
       "SH65X       102269\n",
       "SH66            28\n",
       "SHSLI         2948\n",
       "SHNFHS2        785\n",
       "SHSTRUC          0\n",
       "HVHIVWT      57390\n",
       "HVHIVWTS     57390\n",
       "dtype: int64"
      ]
     },
     "execution_count": 28,
     "metadata": {},
     "output_type": "execute_result"
    }
   ],
   "source": [
    "# count NAs in each column\n",
    "df.isnull().sum()"
   ]
  },
  {
   "cell_type": "code",
   "execution_count": 29,
   "metadata": {
    "collapsed": false
   },
   "outputs": [
    {
     "data": {
      "text/plain": [
       "71"
      ]
     },
     "execution_count": 29,
     "metadata": {},
     "output_type": "execute_result"
    }
   ],
   "source": [
    "# count how many columns have more than 50k NAs\n",
    "df.isnull().sum()[df.isnull().sum() > 50000].size"
   ]
  },
  {
   "cell_type": "markdown",
   "metadata": {},
   "source": [
    "So 71 columns have more than 50,000 NAs."
   ]
  },
  {
   "cell_type": "code",
   "execution_count": 30,
   "metadata": {
    "collapsed": false
   },
   "outputs": [
    {
     "data": {
      "text/plain": [
       "81"
      ]
     },
     "execution_count": 30,
     "metadata": {},
     "output_type": "execute_result"
    }
   ],
   "source": [
    "# count how many columns have more than 10k NAs\n",
    "df.isnull().sum()[df.isnull().sum() > 10000].size"
   ]
  },
  {
   "cell_type": "markdown",
   "metadata": {},
   "source": [
    "And 81 columns have more than 10,000 NAs."
   ]
  },
  {
   "cell_type": "code",
   "execution_count": 31,
   "metadata": {
    "collapsed": false
   },
   "outputs": [
    {
     "data": {
      "text/plain": [
       "Index(['HV004', 'HV021', 'HV028', 'HV033', 'HV043', 'HV225', 'HV228', 'HV235',\n",
       "       'HV236', 'HV237A', 'HV237B', 'HV237C', 'HV237D', 'HV237E', 'HV237F',\n",
       "       'HV237G', 'HV237H', 'HV237I', 'HV237J', 'HV237K', 'HV237X', 'HV237Z',\n",
       "       'HV238', 'HV239', 'HV240', 'HV242', 'HV243D', 'HV245', 'HV246A',\n",
       "       'HV246B', 'HV246C', 'HV246D', 'HV246E', 'HV246F', 'HV246G', 'HV246H',\n",
       "       'HV246I', 'HV246J', 'HV246K', 'HV248', 'HV249', 'HV250', 'HV251',\n",
       "       'HML1', 'HML1A', 'HML2', 'HV028S', 'SHCITY', 'SHDV', 'SHANGAYR',\n",
       "       'SHSLUMC', 'SHSLUMS', 'SH49', 'SH50', 'SH58KM', 'SH58A', 'SH58B',\n",
       "       'SH58C', 'SH58D', 'SH58EA', 'SH58EB', 'SH58EC', 'SH58ED', 'SH58EE',\n",
       "       'SH58EF', 'SH58EG', 'SH58EH', 'SH58EI', 'SH60', 'SH61', 'SH60H',\n",
       "       'SH61H', 'SH65A', 'SH65B', 'SH65C', 'SH65D', 'SH65E', 'SH65F', 'SH65X',\n",
       "       'HVHIVWT', 'HVHIVWTS'],\n",
       "      dtype='object')"
      ]
     },
     "execution_count": 31,
     "metadata": {},
     "output_type": "execute_result"
    }
   ],
   "source": [
    "# look at columns with more than 10k NAs\n",
    "df.columns[df.isnull().sum() > 10000]"
   ]
  },
  {
   "cell_type": "markdown",
   "metadata": {},
   "source": [
    "The above columns may be problematic from a NA perspective.  Looking at the codebook to see what questions they correspond to, we can drop some of them right away as irrelevant: either the codebook indicates we should ignore it, or it is a clerical survey-related column.\n"
   ]
  },
  {
   "cell_type": "code",
   "execution_count": 32,
   "metadata": {
    "collapsed": false
   },
   "outputs": [],
   "source": [
    "# drop irrelevant columns\n",
    "df2 = df.drop(['HV004', 'HV021', 'HV028', 'HV033', 'HV043',\n",
    "               'HV228','HV237E','HV237I', 'HV237J', 'HV237K',\n",
    "               'HV240', 'HV243D','HV246A','HV246B', 'HV246C', \n",
    "               'HV246D', 'HV246E', 'HV246F', 'HV246G', 'HV246H',\n",
    "               'HV246I', 'HV246J', 'HV246K','HV248', 'HV249', \n",
    "               'HV250', 'HV251', 'HML1', 'HML1A', 'HML2','HV028S',\n",
    "               'SHSLUMC','SHSLUMS', 'SHDV', 'HVHIVWT', 'HVHIVWTS'], axis=1)"
   ]
  },
  {
   "cell_type": "markdown",
   "metadata": {},
   "source": [
    "We will drop the columns that are specific to Kolkata and Mumbai only."
   ]
  },
  {
   "cell_type": "code",
   "execution_count": 34,
   "metadata": {
    "collapsed": true
   },
   "outputs": [],
   "source": [
    "# drop Kolkata/Mumbai columns\n",
    "df2 = df2.drop(['SH58KM', 'SH58A', 'SH58B', 'SH58C', 'SH58D', 'SH58EA',\n",
    "       'SH58EB', 'SH58EC', 'SH58ED', 'SH58EE', 'SH58EF', 'SH58EG', 'SH58EH',\n",
    "       'SH58EI'], axis=1)"
   ]
  },
  {
   "cell_type": "markdown",
   "metadata": {},
   "source": [
    "Systematically look at value counts for other columns with many NAs. For example:"
   ]
  },
  {
   "cell_type": "code",
   "execution_count": 35,
   "metadata": {
    "collapsed": true
   },
   "outputs": [],
   "source": [
    "key = 'HV225'"
   ]
  },
  {
   "cell_type": "code",
   "execution_count": 36,
   "metadata": {
    "collapsed": false
   },
   "outputs": [
    {
     "data": {
      "text/plain": [
       "No     46396\n",
       "Yes    21139\n",
       "Name: HV225, dtype: int64"
      ]
     },
     "execution_count": 36,
     "metadata": {},
     "output_type": "execute_result"
    }
   ],
   "source": [
    "# value counts for 'key' column\n",
    "df2[key].value_counts()"
   ]
  },
  {
   "cell_type": "code",
   "execution_count": 37,
   "metadata": {
    "collapsed": false
   },
   "outputs": [
    {
     "data": {
      "text/plain": [
       "41506"
      ]
     },
     "execution_count": 37,
     "metadata": {},
     "output_type": "execute_result"
    }
   ],
   "source": [
    "# count NAs in 'key' column\n",
    "df2[key].isnull().sum()"
   ]
  },
  {
   "cell_type": "code",
   "execution_count": 38,
   "metadata": {
    "collapsed": false
   },
   "outputs": [
    {
     "name": "stdout",
     "output_type": "stream",
     "text": [
      "SH65A\n",
      "No      4982\n",
      "ESIS    1790\n",
      "Name: SH65A, dtype: int64\n",
      "NAs: 102269\n",
      "SH65B\n",
      "No      5514\n",
      "CGHS    1258\n",
      "Name: SH65B, dtype: int64\n",
      "NAs: 102269\n",
      "SH65C\n",
      "No                                 6477\n",
      "Comm Health Insurance Programme     295\n",
      "Name: SH65C, dtype: int64\n",
      "NAs: 102269\n",
      "SH65D\n",
      "No                                         6317\n",
      "other health insurance through employer     455\n",
      "Name: SH65D, dtype: int64\n",
      "NAs: 102269\n",
      "SH65E\n",
      "No                                     5756\n",
      "Medical reimbursement from employer    1016\n",
      "Name: SH65E, dtype: int64\n",
      "NAs: 102269\n",
      "SH65F\n",
      "No                                                 4952\n",
      "other privately purchased comm health insurance    1820\n",
      "Name: SH65F, dtype: int64\n",
      "NAs: 102269\n",
      "SH65X\n",
      "No       6435\n",
      "other     337\n",
      "Name: SH65X, dtype: int64\n",
      "NAs: 102269\n"
     ]
    }
   ],
   "source": [
    "# programmatically look at health insurance-related columns\n",
    "health_insurance_kys = ['SH65A', 'SH65B', 'SH65C', 'SH65D', 'SH65E',\n",
    "       'SH65F', 'SH65X']\n",
    "for key in health_insurance_kys:\n",
    "    print(key)\n",
    "    print(df2[key].value_counts())\n",
    "    print(\"NAs:\" , df2[key].isnull().sum())"
   ]
  },
  {
   "cell_type": "markdown",
   "metadata": {},
   "source": [
    "The `SH65_` columns have 102269 NAs out of 109041, so easiest to drop them too."
   ]
  },
  {
   "cell_type": "code",
   "execution_count": 39,
   "metadata": {
    "collapsed": false
   },
   "outputs": [],
   "source": [
    "# drop health insurance-related columns\n",
    "df2 = df2.drop(health_insurance_kys, axis=1)"
   ]
  },
  {
   "cell_type": "code",
   "execution_count": 40,
   "metadata": {
    "collapsed": false
   },
   "outputs": [
    {
     "data": {
      "text/plain": [
       "(109041, 141)"
      ]
     },
     "execution_count": 40,
     "metadata": {},
     "output_type": "execute_result"
    }
   ],
   "source": [
    "# current shape of trimmed df\n",
    "df2.shape"
   ]
  },
  {
   "cell_type": "code",
   "execution_count": 41,
   "metadata": {
    "collapsed": false
   },
   "outputs": [
    {
     "data": {
      "text/plain": [
       "17"
      ]
     },
     "execution_count": 41,
     "metadata": {},
     "output_type": "execute_result"
    }
   ],
   "source": [
    "# count columns with more than 50k NAs\n",
    "df2.isnull().sum()[df2.isnull().sum() > 50000].size"
   ]
  },
  {
   "cell_type": "markdown",
   "metadata": {},
   "source": [
    "There are still some columns with a high percentage of NAs, but these still contain interesting info for a subset of the households, so for now we'll leave them in."
   ]
  },
  {
   "cell_type": "markdown",
   "metadata": {},
   "source": [
    "# Male vs Female household head, first pass\n",
    "\n",
    "We are at first mainly interested in the variable `HV219`: sex of the household head.  Here we compare `HV219` with `HV217`: household relationship structure."
   ]
  },
  {
   "cell_type": "code",
   "execution_count": 30,
   "metadata": {
    "collapsed": false
   },
   "outputs": [
    {
     "data": {
      "text/plain": [
       "Male      93332\n",
       "Female    15709\n",
       "Name: HV219, dtype: int64"
      ]
     },
     "execution_count": 30,
     "metadata": {},
     "output_type": "execute_result"
    }
   ],
   "source": [
    "# value counts for HV219\n",
    "df2['HV219'].value_counts()"
   ]
  },
  {
   "cell_type": "code",
   "execution_count": 42,
   "metadata": {
    "collapsed": false
   },
   "outputs": [
    {
     "data": {
      "text/plain": [
       "<matplotlib.text.Text at 0x116e0d278>"
      ]
     },
     "execution_count": 42,
     "metadata": {},
     "output_type": "execute_result"
    },
    {
     "data": {
      "image/png": "[encoded data removed]",
      "text/plain": [
       "<matplotlib.figure.Figure at 0x116d3a630>"
      ]
     },
     "metadata": {},
     "output_type": "display_data"
    }
   ],
   "source": [
    "# plot bar graph\n",
    "df2['HV219'].value_counts().plot(kind='bar', figsize=(6,6), color='g')\n",
    "plt.title('Sex of household head')"
   ]
  },
  {
   "cell_type": "markdown",
   "metadata": {},
   "source": [
    "### Household relationship structure"
   ]
  },
  {
   "cell_type": "code",
   "execution_count": 40,
   "metadata": {
    "collapsed": false
   },
   "outputs": [
    {
     "data": {
      "text/plain": [
       "Three+ related adults       60814\n",
       "Two adults, opposite sex    35541\n",
       "One adult                    8724\n",
       "Two adults, same sex         2774\n",
       "Unrelated adults             1069\n",
       "No adults                     119\n",
       "Name: HV217, dtype: int64"
      ]
     },
     "execution_count": 40,
     "metadata": {},
     "output_type": "execute_result"
    }
   ],
   "source": [
    "# value counts for HV217\n",
    "df2['HV217'].value_counts()"
   ]
  },
  {
   "cell_type": "code",
   "execution_count": 62,
   "metadata": {
    "collapsed": false
   },
   "outputs": [
    {
     "data": {
      "text/plain": [
       "<matplotlib.text.Text at 0x1194467f0>"
      ]
     },
     "execution_count": 62,
     "metadata": {},
     "output_type": "execute_result"
    },
    {
     "data": {
      "image/png": "[encoded data removed]",
      "text/plain": [
       "<matplotlib.figure.Figure at 0x1193ceb70>"
      ]
     },
     "metadata": {},
     "output_type": "display_data"
    }
   ],
   "source": [
    "# plot bar graph for total HV217\n",
    "df2['HV217'].value_counts().plot(kind='bar', figsize=(6,6))\n",
    "plt.title('Household relationship structure (total)')"
   ]
  },
  {
   "cell_type": "code",
   "execution_count": 64,
   "metadata": {
    "collapsed": false
   },
   "outputs": [
    {
     "data": {
      "text/plain": [
       "<matplotlib.text.Text at 0x119b646a0>"
      ]
     },
     "execution_count": 64,
     "metadata": {},
     "output_type": "execute_result"
    },
    {
     "data": {
      "image/png": "[encoded data removed]",
      "text/plain": [
       "<matplotlib.figure.Figure at 0x119b19be0>"
      ]
     },
     "metadata": {},
     "output_type": "display_data"
    }
   ],
   "source": [
    "# plot bar graph for HV217 with male HH head\n",
    "df2[df2.HV219 == 'Male']['HV217'].value_counts().plot(kind='bar', color='g')\n",
    "plt.title('HH relationship structure (male head)')"
   ]
  },
  {
   "cell_type": "code",
   "execution_count": 65,
   "metadata": {
    "collapsed": false
   },
   "outputs": [
    {
     "data": {
      "text/plain": [
       "<matplotlib.text.Text at 0x11bdb7828>"
      ]
     },
     "execution_count": 65,
     "metadata": {},
     "output_type": "execute_result"
    },
    {
     "data": {
      "image/png": "[encoded data removed]",
      "text/plain": [
       "<matplotlib.figure.Figure at 0x1192c70f0>"
      ]
     },
     "metadata": {},
     "output_type": "display_data"
    }
   ],
   "source": [
    "# plot bar graph for HV217 with female HH head\n",
    "df2[df2.HV219 == 'Female']['HV217'].value_counts().plot(kind='bar', color = 'r')\n",
    "plt.title('HH relationship structure (female head)')"
   ]
  },
  {
   "cell_type": "markdown",
   "metadata": {
    "collapsed": true
   },
   "source": [
    "### Comparing HV217 and HV219"
   ]
  },
  {
   "cell_type": "code",
   "execution_count": 66,
   "metadata": {
    "collapsed": false
   },
   "outputs": [
    {
     "data": {
      "text/html": [
       "<div>\n",
       "<table border=\"1\" class=\"dataframe\">\n",
       "  <thead>\n",
       "    <tr style=\"text-align: right;\">\n",
       "      <th>HV219</th>\n",
       "      <th>Female</th>\n",
       "      <th>Male</th>\n",
       "    </tr>\n",
       "    <tr>\n",
       "      <th>HV217</th>\n",
       "      <th></th>\n",
       "      <th></th>\n",
       "    </tr>\n",
       "  </thead>\n",
       "  <tbody>\n",
       "    <tr>\n",
       "      <th>No adults</th>\n",
       "      <td>31</td>\n",
       "      <td>88</td>\n",
       "    </tr>\n",
       "    <tr>\n",
       "      <th>One adult</th>\n",
       "      <td>5159</td>\n",
       "      <td>3565</td>\n",
       "    </tr>\n",
       "    <tr>\n",
       "      <th>Three+ related adults</th>\n",
       "      <td>6719</td>\n",
       "      <td>54095</td>\n",
       "    </tr>\n",
       "    <tr>\n",
       "      <th>Two adults, opposite sex</th>\n",
       "      <td>1866</td>\n",
       "      <td>33675</td>\n",
       "    </tr>\n",
       "    <tr>\n",
       "      <th>Two adults, same sex</th>\n",
       "      <td>1795</td>\n",
       "      <td>979</td>\n",
       "    </tr>\n",
       "    <tr>\n",
       "      <th>Unrelated adults</th>\n",
       "      <td>139</td>\n",
       "      <td>930</td>\n",
       "    </tr>\n",
       "  </tbody>\n",
       "</table>\n",
       "</div>"
      ],
      "text/plain": [
       "HV219                     Female   Male\n",
       "HV217                                  \n",
       "No adults                     31     88\n",
       "One adult                   5159   3565\n",
       "Three+ related adults       6719  54095\n",
       "Two adults, opposite sex    1866  33675\n",
       "Two adults, same sex        1795    979\n",
       "Unrelated adults             139    930"
      ]
     },
     "execution_count": 66,
     "metadata": {},
     "output_type": "execute_result"
    }
   ],
   "source": [
    "# cross-tabulation\n",
    "hh_counts = pd.crosstab(df2.HV217, df2.HV219)\n",
    "hh_counts"
   ]
  },
  {
   "cell_type": "code",
   "execution_count": 67,
   "metadata": {
    "collapsed": false
   },
   "outputs": [
    {
     "data": {
      "text/plain": [
       "<matplotlib.axes._subplots.AxesSubplot at 0x119bed550>"
      ]
     },
     "execution_count": 67,
     "metadata": {},
     "output_type": "execute_result"
    },
    {
     "data": {
      "image/png": "[encoded data removed]",
      "text/plain": [
       "<matplotlib.figure.Figure at 0x11be0e828>"
      ]
     },
     "metadata": {},
     "output_type": "display_data"
    }
   ],
   "source": [
    "# plot bar graph\n",
    "hh_counts.plot(kind='barh', title = 'HH structure by sex of HH head')"
   ]
  },
  {
   "cell_type": "markdown",
   "metadata": {},
   "source": [
    "This is not great because the scale is different with M-head and F-head HHs.  Better to put it as a percentage..."
   ]
  },
  {
   "cell_type": "code",
   "execution_count": 68,
   "metadata": {
    "collapsed": true
   },
   "outputs": [],
   "source": [
    "# add up total male and female HH heads\n",
    "total_F_heads = sum(df2['HV219'] == 'Female')\n",
    "total_M_heads = sum(df2['HV219'] == 'Male')"
   ]
  },
  {
   "cell_type": "code",
   "execution_count": 70,
   "metadata": {
    "collapsed": false
   },
   "outputs": [
    {
     "data": {
      "text/html": [
       "<div>\n",
       "<table border=\"1\" class=\"dataframe\">\n",
       "  <thead>\n",
       "    <tr style=\"text-align: right;\">\n",
       "      <th>HV219</th>\n",
       "      <th>Male</th>\n",
       "      <th>Female</th>\n",
       "    </tr>\n",
       "    <tr>\n",
       "      <th>HV217</th>\n",
       "      <th></th>\n",
       "      <th></th>\n",
       "    </tr>\n",
       "  </thead>\n",
       "  <tbody>\n",
       "    <tr>\n",
       "      <th>No adults</th>\n",
       "      <td>0.094287</td>\n",
       "      <td>0.197339</td>\n",
       "    </tr>\n",
       "    <tr>\n",
       "      <th>One adult</th>\n",
       "      <td>3.819697</td>\n",
       "      <td>32.841047</td>\n",
       "    </tr>\n",
       "    <tr>\n",
       "      <th>Three+ related adults</th>\n",
       "      <td>57.959757</td>\n",
       "      <td>42.771660</td>\n",
       "    </tr>\n",
       "    <tr>\n",
       "      <th>Two adults, opposite sex</th>\n",
       "      <td>36.080873</td>\n",
       "      <td>11.878541</td>\n",
       "    </tr>\n",
       "    <tr>\n",
       "      <th>Two adults, same sex</th>\n",
       "      <td>1.048944</td>\n",
       "      <td>11.426571</td>\n",
       "    </tr>\n",
       "    <tr>\n",
       "      <th>Unrelated adults</th>\n",
       "      <td>0.996443</td>\n",
       "      <td>0.884843</td>\n",
       "    </tr>\n",
       "  </tbody>\n",
       "</table>\n",
       "</div>"
      ],
      "text/plain": [
       "HV219                          Male     Female\n",
       "HV217                                         \n",
       "No adults                  0.094287   0.197339\n",
       "One adult                  3.819697  32.841047\n",
       "Three+ related adults     57.959757  42.771660\n",
       "Two adults, opposite sex  36.080873  11.878541\n",
       "Two adults, same sex       1.048944  11.426571\n",
       "Unrelated adults           0.996443   0.884843"
      ]
     },
     "execution_count": 70,
     "metadata": {},
     "output_type": "execute_result"
    }
   ],
   "source": [
    "# create scaled cross-tabulation\n",
    "hh_counts_scaled = DataFrame()\n",
    "hh_counts_scaled['Male'] = hh_counts['Male']/total_M_heads*100\n",
    "hh_counts_scaled['Female'] = hh_counts['Female']/total_F_heads*100\n",
    "hh_counts_scaled.columns.name = 'HV219'\n",
    "\n",
    "hh_counts_scaled"
   ]
  },
  {
   "cell_type": "code",
   "execution_count": 71,
   "metadata": {
    "collapsed": false
   },
   "outputs": [
    {
     "data": {
      "text/plain": [
       "<matplotlib.axes._subplots.AxesSubplot at 0x11be07358>"
      ]
     },
     "execution_count": 71,
     "metadata": {},
     "output_type": "execute_result"
    },
    {
     "data": {
      "image/png": "[encoded data removed]",
      "text/plain": [
       "<matplotlib.figure.Figure at 0x11be5d278>"
      ]
     },
     "metadata": {},
     "output_type": "display_data"
    }
   ],
   "source": [
    "# bar plot of HH structure, scaled\n",
    "hh_counts_scaled.plot(kind='barh', \n",
    "                      title = 'HH structure by sex of HH head, as percentage',\n",
    "                     figsize = (8,8))"
   ]
  },
  {
   "cell_type": "markdown",
   "metadata": {},
   "source": [
    "# `HV219` versus other variables, programmatically\n",
    "\n",
    "Choose a categorical variable, create a staggered bar graph by HV219.\n",
    "\n",
    "Here are some ones to try: "
   ]
  },
  {
   "cell_type": "code",
   "execution_count": 48,
   "metadata": {
    "collapsed": true
   },
   "outputs": [],
   "source": [
    "interesting = ['HV009','HV025', 'HV026', 'HV201', 'HV202', 'HV205', 'HV206', 'HV208', 'HV212', 'HV213',\n",
    "              'HV214', 'HV215', 'HV216', 'HV217', 'HV220', 'HV221', 'HV225', 'HV226', 'HV227', 'HV238',\n",
    "              'HV243A', 'HV244', 'HV246', 'HV247', 'HV270', 'SH44', 'SH46', 'SH47N', 'SH58', \n",
    "              'SH62A', 'SH62F', 'SHSLI', 'SHSTRUC']"
   ]
  },
  {
   "cell_type": "code",
   "execution_count": 72,
   "metadata": {
    "collapsed": false
   },
   "outputs": [],
   "source": [
    "# dict to easily keep track of which survey questions these variables correspond to\n",
    "q_dict = {'HV009':'Number of listed household members' ,\n",
    "          'HV025': 'Type of place of residence', 'HV026' : 'Place of residence',\n",
    "          'HV201' : 'Source of drinking water', 'HV202':'Source of non-drinking water', \n",
    "          'HV205':'Type of toilet facility', 'HV206':'Has electricity', \n",
    "          'HV208':'Has television', 'HV212':'Has car', 'HV213':'Main floor material',\n",
    "          'HV214':'Main wall [exterior] material', 'HV215':'Main roof material',\n",
    "          'HV216':'Rooms used for sleeping', 'HV217':'Relationship structure',\n",
    "          'HV220':'Age of head of household',\n",
    "          'HV221':'Has telephone (non-mobile)', 'HV225':'Shares toilet with other households',\n",
    "          'HV226':'Type of cooking fuel', 'HV227':'Have bednet for sleeping',\n",
    "          'HV238':'Number of households sharing toilet','HV243A': 'Has mobile telephone',\n",
    "          'HV244':'Owns land usable for agriculture', 'HV246':'Livestock, herds or farm animals',\n",
    "          'HV247':'Owns a bank account or post office account', 'HV270':'Wealth Index',\n",
    "          'SH44':'Household head\\'s religion', 'SH46':'Type of caste or tribe of the HH head',\n",
    "          'SH47N':'Has computer', 'SH58':'Owns this or any other house',\n",
    "          'SH62A':'Has cows/bulls/buffalo', 'SH62F':'Has chickens',\n",
    "          'SHSLI':'Standard of Living Index', 'SHSTRUC':'Household structure'}"
   ]
  },
  {
   "cell_type": "code",
   "execution_count": 52,
   "metadata": {
    "collapsed": true
   },
   "outputs": [],
   "source": [
    "total_F_heads = sum(df2['HV219'] == 'Female')\n",
    "total_M_heads = sum(df2['HV219'] == 'Male')"
   ]
  },
  {
   "cell_type": "markdown",
   "metadata": {},
   "source": [
    "By scanning through the `interesting` string, I build code to quickly look at patterns versus `HV219`."
   ]
  },
  {
   "cell_type": "code",
   "execution_count": 87,
   "metadata": {
    "collapsed": true
   },
   "outputs": [],
   "source": [
    "# choose a different variable string from column list\n",
    "# e.g. var = 'HV217'\n",
    "var = interesting[24]"
   ]
  },
  {
   "cell_type": "code",
   "execution_count": 88,
   "metadata": {
    "collapsed": false
   },
   "outputs": [
    {
     "name": "stdout",
     "output_type": "stream",
     "text": [
      "HV270: Wealth Index\n"
     ]
    }
   ],
   "source": [
    "# print variable and corresponding question\n",
    "print(var + ': ' + q_dict[var])"
   ]
  },
  {
   "cell_type": "code",
   "execution_count": 89,
   "metadata": {
    "collapsed": false
   },
   "outputs": [
    {
     "data": {
      "text/plain": [
       "Richest    31372\n",
       "Richer     25497\n",
       "Middle     20951\n",
       "Poorer     16576\n",
       "Poorest    14645\n",
       "Name: HV270, dtype: int64"
      ]
     },
     "execution_count": 89,
     "metadata": {},
     "output_type": "execute_result"
    }
   ],
   "source": [
    "# look at total histogram\n",
    "df2[var].value_counts()"
   ]
  },
  {
   "cell_type": "code",
   "execution_count": 90,
   "metadata": {
    "collapsed": false
   },
   "outputs": [
    {
     "data": {
      "text/plain": [
       "0"
      ]
     },
     "execution_count": 90,
     "metadata": {},
     "output_type": "execute_result"
    }
   ],
   "source": [
    "# check for how many NAs\n",
    "df2[var].isnull().sum()"
   ]
  },
  {
   "cell_type": "code",
   "execution_count": 91,
   "metadata": {
    "collapsed": false
   },
   "outputs": [],
   "source": [
    "# cross-tabulate, and scale\n",
    "counts = pd.crosstab(df2[var], df2['HV219'])\n",
    "\n",
    "counts_scaled = DataFrame()\n",
    "counts_scaled['Male'] = counts['Male']/total_M_heads*100\n",
    "counts_scaled['Female'] = counts['Female']/total_F_heads*100\n",
    "counts_scaled.columns.name = 'HV219'"
   ]
  },
  {
   "cell_type": "code",
   "execution_count": 92,
   "metadata": {
    "collapsed": false
   },
   "outputs": [
    {
     "data": {
      "text/html": [
       "<div>\n",
       "<table border=\"1\" class=\"dataframe\">\n",
       "  <thead>\n",
       "    <tr style=\"text-align: right;\">\n",
       "      <th>HV219</th>\n",
       "      <th>Male</th>\n",
       "      <th>Female</th>\n",
       "    </tr>\n",
       "    <tr>\n",
       "      <th>HV270</th>\n",
       "      <th></th>\n",
       "      <th></th>\n",
       "    </tr>\n",
       "  </thead>\n",
       "  <tbody>\n",
       "    <tr>\n",
       "      <th>Middle</th>\n",
       "      <td>19.215275</td>\n",
       "      <td>19.205551</td>\n",
       "    </tr>\n",
       "    <tr>\n",
       "      <th>Poorer</th>\n",
       "      <td>15.120216</td>\n",
       "      <td>15.685276</td>\n",
       "    </tr>\n",
       "    <tr>\n",
       "      <th>Poorest</th>\n",
       "      <td>13.087687</td>\n",
       "      <td>15.468840</td>\n",
       "    </tr>\n",
       "    <tr>\n",
       "      <th>Richer</th>\n",
       "      <td>23.490336</td>\n",
       "      <td>22.744923</td>\n",
       "    </tr>\n",
       "    <tr>\n",
       "      <th>Richest</th>\n",
       "      <td>29.086487</td>\n",
       "      <td>26.895410</td>\n",
       "    </tr>\n",
       "  </tbody>\n",
       "</table>\n",
       "</div>"
      ],
      "text/plain": [
       "HV219         Male     Female\n",
       "HV270                        \n",
       "Middle   19.215275  19.205551\n",
       "Poorer   15.120216  15.685276\n",
       "Poorest  13.087687  15.468840\n",
       "Richer   23.490336  22.744923\n",
       "Richest  29.086487  26.895410"
      ]
     },
     "execution_count": 92,
     "metadata": {},
     "output_type": "execute_result"
    }
   ],
   "source": [
    "counts_scaled"
   ]
  },
  {
   "cell_type": "code",
   "execution_count": 93,
   "metadata": {
    "collapsed": false
   },
   "outputs": [
    {
     "data": {
      "image/png": "[encoded data removed]",
      "text/plain": [
       "<matplotlib.figure.Figure at 0x11c2f2a20>"
      ]
     },
     "metadata": {},
     "output_type": "display_data"
    }
   ],
   "source": [
    "# generate pretty plot, and optionally saves it to file\n",
    "counts_scaled.plot(kind='barh', \n",
    "                      title = '\"%s\" by sex of HH head, as percentage' % q_dict[var],\n",
    "                     figsize = (10,10))\n",
    "\n",
    "filename = 'versusHV219/' + var + 'byHV219.png'\n",
    "\n",
    "# UNCOMMENT TO SAVE TO FILE\n",
    "#plt.savefig(filename, dpi = 200, bbox_inches = 'tight')"
   ]
  },
  {
   "cell_type": "code",
   "execution_count": 300,
   "metadata": {
    "collapsed": false
   },
   "outputs": [],
   "source": [
    "# DO NOT EVALUATE UNLESS YOU WANT TO SAVE TO FILE\n",
    "# runs through all the interesting variables and creates such plots, saves them to file\n",
    "for var in interesting:\n",
    "    counts = pd.crosstab(df2[var], df2['HV219'])\n",
    "    counts_scaled = DataFrame()\n",
    "    counts_scaled['Male'] = counts['Male']/total_M_heads*100\n",
    "    counts_scaled['Female'] = counts['Female']/total_F_heads*100\n",
    "    counts_scaled.columns.name = 'HV219'\n",
    "    counts_scaled.plot(kind='barh', \n",
    "                      title = '\"%s\" by sex of HH head, as percentage' % q_dict[var],\n",
    "                     figsize = (10,10))\n",
    "    filename = 'versusHV219/' + var + 'byHV219.png'\n",
    "    plt.savefig(filename, dpi = 200, bbox_inches = 'tight')\n",
    "    plt.close()"
   ]
  },
  {
   "cell_type": "markdown",
   "metadata": {},
   "source": [
    "After evaluating this code, check out the images in `versusHV219` folder to look through all these plots."
   ]
  },
  {
   "cell_type": "markdown",
   "metadata": {},
   "source": [
    "# Three main takeaways\n",
    "\n",
    "After looking programmatically through these \"interesting\" mostly-categorical variables and how they compare with `HV219`, I noticed a few patterns:\n",
    "\n",
    "1. Number of listed HH members (`HV009`) has a clear pattern: when HH has 1-3 members a female is more likely to be in charge.  When there are 4+ then a male is.  I could do more statistics with this.\n",
    "\n",
    "2. Age of HH head (`HV220`) shows a definite difference.  Females are in charge when the HH head is older.\n",
    "\n",
    "3. Women are more likely HH heads in a rural setting (`HV025`).  This seems broadly consistent throughout the data (e.g. `HV026`), and may explain a lot of the other tendencies: water supply, toilet, electricity, housing materials.  I split the data along the rural/urban and then look again.\n",
    "\n",
    "\n"
   ]
  },
  {
   "cell_type": "markdown",
   "metadata": {},
   "source": [
    "### 1. Number of HH members and HV219\n",
    "\n",
    "When the household has 1-3 members a female is more likely to be in charge. When there are 4+ then a male is."
   ]
  },
  {
   "cell_type": "code",
   "execution_count": 103,
   "metadata": {
    "collapsed": false
   },
   "outputs": [
    {
     "name": "stdout",
     "output_type": "stream",
     "text": [
      "HV009: Number of listed household members\n"
     ]
    }
   ],
   "source": [
    "# display variable for convenience\n",
    "var = 'HV009'\n",
    "print(var + ': ' + q_dict[var])"
   ]
  },
  {
   "cell_type": "code",
   "execution_count": 104,
   "metadata": {
    "collapsed": true
   },
   "outputs": [],
   "source": [
    "# cross-tabulate\n",
    "counts = pd.crosstab(df2[var], df2['HV219'])\n",
    "\n",
    "counts_scaled = DataFrame()\n",
    "counts_scaled['Male'] = counts['Male']/total_M_heads*100\n",
    "counts_scaled['Female'] = counts['Female']/total_F_heads*100\n",
    "counts_scaled.columns.name = 'HV219'"
   ]
  },
  {
   "cell_type": "code",
   "execution_count": 105,
   "metadata": {
    "collapsed": false
   },
   "outputs": [],
   "source": [
    "# limit to HHs with up to 10 members, for readability\n",
    "counts_scaled = counts_scaled[:10]"
   ]
  },
  {
   "cell_type": "code",
   "execution_count": 107,
   "metadata": {
    "collapsed": false
   },
   "outputs": [
    {
     "data": {
      "text/plain": [
       "<matplotlib.axes._subplots.AxesSubplot at 0x11edfeba8>"
      ]
     },
     "execution_count": 107,
     "metadata": {},
     "output_type": "execute_result"
    },
    {
     "data": {
      "image/png": "[encoded data removed]",
      "text/plain": [
       "<matplotlib.figure.Figure at 0x11c35bbe0>"
      ]
     },
     "metadata": {},
     "output_type": "display_data"
    }
   ],
   "source": [
    "# bar plot\n",
    "counts_scaled.plot(kind='bar', \n",
    "                      title = '\"%s\" by sex of HH head, as percentage' % q_dict[var],\n",
    "                     figsize = (10,10))"
   ]
  },
  {
   "cell_type": "markdown",
   "metadata": {},
   "source": [
    "### 2. Age of HH head and HV219\n",
    "\n",
    "First we plot the age of the household head as a categorical variable, and then as a numeric, in both cases comparing to sex of HH head.  In general, women are in charge when the household head is older."
   ]
  },
  {
   "cell_type": "code",
   "execution_count": 109,
   "metadata": {
    "collapsed": false
   },
   "outputs": [
    {
     "name": "stdout",
     "output_type": "stream",
     "text": [
      "HV220: Age of head of household\n"
     ]
    }
   ],
   "source": [
    "# display variable for convenience\n",
    "var = 'HV220'\n",
    "print(var + ': ' + q_dict[var])"
   ]
  },
  {
   "cell_type": "code",
   "execution_count": 110,
   "metadata": {
    "collapsed": true
   },
   "outputs": [],
   "source": [
    "# cross-tabulate\n",
    "counts = pd.crosstab(df2[var], df2['HV219'])\n",
    "\n",
    "counts_scaled = DataFrame()\n",
    "counts_scaled['Male'] = counts['Male']/total_M_heads*100\n",
    "counts_scaled['Female'] = counts['Female']/total_F_heads*100\n",
    "counts_scaled.columns.name = 'HV219'"
   ]
  },
  {
   "cell_type": "code",
   "execution_count": 111,
   "metadata": {
    "collapsed": false
   },
   "outputs": [
    {
     "data": {
      "text/plain": [
       "<matplotlib.axes._subplots.AxesSubplot at 0x11edef5c0>"
      ]
     },
     "execution_count": 111,
     "metadata": {},
     "output_type": "execute_result"
    },
    {
     "data": {
      "image/png": "[encoded data removed]",
      "text/plain": [
       "<matplotlib.figure.Figure at 0x11c41b908>"
      ]
     },
     "metadata": {},
     "output_type": "display_data"
    }
   ],
   "source": [
    "# bar plot, treating age as a categorical variable\n",
    "counts_scaled.plot(kind='bar', \n",
    "                      title = '\"%s\" by sex of HH head, as percentage' % q_dict[var],\n",
    "                     figsize = (10,10))"
   ]
  },
  {
   "cell_type": "markdown",
   "metadata": {},
   "source": [
    "This seems to show that female HH heads tend to be older."
   ]
  },
  {
   "cell_type": "code",
   "execution_count": 112,
   "metadata": {
    "collapsed": false
   },
   "outputs": [
    {
     "data": {
      "text/plain": [
       "<matplotlib.axes._subplots.AxesSubplot at 0x11c2cff28>"
      ]
     },
     "execution_count": 112,
     "metadata": {},
     "output_type": "execute_result"
    },
    {
     "data": {
      "image/png": "[encoded data removed]",
      "text/plain": [
       "<matplotlib.figure.Figure at 0x11c28e780>"
      ]
     },
     "metadata": {},
     "output_type": "display_data"
    }
   ],
   "source": [
    "f_values = df2[df2.HV219 == 'Female'][var]\n",
    "f_values.hist(bins=30, color = 'r', figsize=(8,8), \n",
    "              normed=True, alpha=0.3)\n",
    "f_values.plot(kind='kde', style='r', title = 'Age of HH head when Female')"
   ]
  },
  {
   "cell_type": "code",
   "execution_count": 113,
   "metadata": {
    "collapsed": false
   },
   "outputs": [
    {
     "data": {
      "text/plain": [
       "<matplotlib.axes._subplots.AxesSubplot at 0x11f695390>"
      ]
     },
     "execution_count": 113,
     "metadata": {},
     "output_type": "execute_result"
    },
    {
     "data": {
      "image/png": "[encoded data removed]",
      "text/plain": [
       "<matplotlib.figure.Figure at 0x11f6408d0>"
      ]
     },
     "metadata": {},
     "output_type": "display_data"
    }
   ],
   "source": [
    "m_values = df2[df2.HV219 == 'Male'][var]\n",
    "m_values.hist(bins=30, figsize=(8,8), normed=True, alpha=0.3)\n",
    "m_values.plot(kind='kde', style='b', title = 'Age of HH head when Male')"
   ]
  },
  {
   "cell_type": "code",
   "execution_count": 351,
   "metadata": {
    "collapsed": true
   },
   "outputs": [],
   "source": [
    "plt.hist?"
   ]
  },
  {
   "cell_type": "code",
   "execution_count": 145,
   "metadata": {
    "collapsed": false
   },
   "outputs": [
    {
     "data": {
      "text/plain": [
       "<matplotlib.legend.Legend at 0x1224455f8>"
      ]
     },
     "execution_count": 145,
     "metadata": {},
     "output_type": "execute_result"
    },
    {
     "data": {
      "image/png": "[encoded data removed]",
      "text/plain": [
       "<matplotlib.figure.Figure at 0x122445710>"
      ]
     },
     "metadata": {},
     "output_type": "display_data"
    }
   ],
   "source": [
    "f_values.hist(bins=30, color = 'r', \n",
    "              normed=True, alpha=0.4, label = 'Female')\n",
    "f_values.plot(kind='kde', style='r', xlim=[0,100], label='')\n",
    "m_values.hist(bins=30, figsize=(10,10), normed=True, alpha=0.4, label='Male')\n",
    "m_values.plot(kind='kde', style='b', xlim=[0,100], label='')\n",
    "plt.title('Age of household head (years)')\n",
    "plt.legend(loc='upper right')"
   ]
  },
  {
   "cell_type": "markdown",
   "metadata": {},
   "source": [
    "### 3. Splitting by Rural/Urban, looking at \"interesting\" variables"
   ]
  },
  {
   "cell_type": "code",
   "execution_count": 373,
   "metadata": {
    "collapsed": false
   },
   "outputs": [
    {
     "name": "stdout",
     "output_type": "stream",
     "text": [
      "HV025: Type of place of residence\n"
     ]
    }
   ],
   "source": [
    "# we want to look at the rural/urban variable\n",
    "var = 'HV025'\n",
    "print(var + ': ' + q_dict[var])"
   ]
  },
  {
   "cell_type": "code",
   "execution_count": 374,
   "metadata": {
    "collapsed": false
   },
   "outputs": [
    {
     "data": {
      "text/plain": [
       "Rural    58805\n",
       "Urban    50236\n",
       "Name: HV025, dtype: int64"
      ]
     },
     "execution_count": 374,
     "metadata": {},
     "output_type": "execute_result"
    }
   ],
   "source": [
    "# about half the households are rural, half are urban\n",
    "df2[var].value_counts()"
   ]
  },
  {
   "cell_type": "code",
   "execution_count": 375,
   "metadata": {
    "collapsed": false
   },
   "outputs": [
    {
     "data": {
      "text/plain": [
       "0"
      ]
     },
     "execution_count": 375,
     "metadata": {},
     "output_type": "execute_result"
    }
   ],
   "source": [
    "# there are no NAs for this variable, which is nice\n",
    "df2[var].isnull().sum()"
   ]
  },
  {
   "cell_type": "code",
   "execution_count": 382,
   "metadata": {
    "collapsed": true
   },
   "outputs": [],
   "source": [
    "df2_rural = df2[df2.HV025 == \"Rural\"]\n",
    "df2_urban = df2[df2.HV025 == \"Urban\"]"
   ]
  },
  {
   "cell_type": "code",
   "execution_count": 385,
   "metadata": {
    "collapsed": false
   },
   "outputs": [],
   "source": [
    "# DO NOT EVALUATE UNLESS YOU WANT TO SAVE TO FILE\n",
    "# for rural subset\n",
    "# (it would be better to stack rural/urban in some way, but i don't know how to do that yet)\n",
    "# runs through all the interesting variables and creates plots, saves them to file\n",
    "total_F_heads = sum(df2_rural['HV219'] == 'Female')\n",
    "total_M_heads = sum(df2_rural['HV219'] == 'Male')\n",
    "\n",
    "for var in interesting:\n",
    "    counts = pd.crosstab(df2_rural[var], df2_rural['HV219'])\n",
    "    counts_scaled = DataFrame()\n",
    "    counts_scaled['Male'] = counts['Male']/total_M_heads*100\n",
    "    counts_scaled['Female'] = counts['Female']/total_F_heads*100\n",
    "    counts_scaled.columns.name = 'HV219'\n",
    "    counts_scaled.plot(kind='barh', \n",
    "                      title = '\"%s\" by sex of HH head, as percentage, in rural' % q_dict[var],\n",
    "                     figsize = (10,10))\n",
    "    filename = 'versusHV219/rural-urban/' + var + 'byHV219-r.png'\n",
    "    plt.savefig(filename, dpi = 200, bbox_inches = 'tight')\n",
    "    plt.close()"
   ]
  },
  {
   "cell_type": "code",
   "execution_count": 386,
   "metadata": {
    "collapsed": true
   },
   "outputs": [],
   "source": [
    "# DO NOT EVALUATE UNLESS YOU WANT TO SAVE TO FILE\n",
    "# for urban subset\n",
    "# (it would be better to stack rural/urban in some way, but i don't know how to do that yet)\n",
    "# runs through all the interesting variables and creates plots, saves them to file\n",
    "total_F_heads = sum(df2_urban['HV219'] == 'Female')\n",
    "total_M_heads = sum(df2_urban['HV219'] == 'Male')\n",
    "\n",
    "for var in interesting:\n",
    "    counts = pd.crosstab(df2_urban[var], df2_urban['HV219'])\n",
    "    counts_scaled = DataFrame()\n",
    "    counts_scaled['Male'] = counts['Male']/total_M_heads*100\n",
    "    counts_scaled['Female'] = counts['Female']/total_F_heads*100\n",
    "    counts_scaled.columns.name = 'HV219'\n",
    "    counts_scaled.plot(kind='barh', \n",
    "                      title = '\"%s\" by sex of HH head, as percentage, in urban' % q_dict[var],\n",
    "                     figsize = (10,10))\n",
    "    filename = 'versusHV219/rural-urban/' + var + 'byHV219-u.png'\n",
    "    plt.savefig(filename, dpi = 200, bbox_inches = 'tight')\n",
    "    plt.close()"
   ]
  },
  {
   "cell_type": "markdown",
   "metadata": {},
   "source": [
    "After evaluating this code, check out the images in the `versusHV219/rural-urban` folder to look at pairs of plots."
   ]
  }
 ],
 "metadata": {
  "kernelspec": {
   "display_name": "Python 3",
   "language": "python",
   "name": "python3"
  },
  "language_info": {
   "codemirror_mode": {
    "name": "ipython",
    "version": 3
   },
   "file_extension": ".py",
   "mimetype": "text/x-python",
   "name": "python",
   "nbconvert_exporter": "python",
   "pygments_lexer": "ipython3",
   "version": "3.6.0"
  }
 },
 "nbformat": 4,
 "nbformat_minor": 2
}
